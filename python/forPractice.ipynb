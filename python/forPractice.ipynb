{
 "cells": [
  {
   "cell_type": "code",
   "execution_count": 1,
   "metadata": {},
   "outputs": [
    {
     "name": "stdout",
     "output_type": "stream",
     "text": [
      "3x1 = 3\n",
      "3x3 = 9\n",
      "3x5 = 15\n",
      "3x7 = 21\n",
      "3x9 = 27\n"
     ]
    }
   ],
   "source": [
    "# 구구단 3단을 출력하라.\n",
    "# 단 홀수 번째만 출력한다.\n",
    "\n",
    "for i in range(10):\n",
    "    if i % 2 != 0:\n",
    "        result = 3*i\n",
    "        print(f'3x{i} = {result}')"
   ]
  },
  {
   "cell_type": "code",
   "execution_count": 19,
   "metadata": {},
   "outputs": [
    {
     "name": "stdout",
     "output_type": "stream",
     "text": [
      "1\n",
      "2\n",
      "6\n",
      "24\n",
      "120\n",
      "720\n",
      "5040\n",
      "40320\n",
      "362880\n",
      "3628800\n"
     ]
    }
   ],
   "source": [
    "# ------404------\n",
    "# 1~10까지의 숫자를 모두 곱한 값을 출력하는 프로그램을 for 문을 사용하여 작성하라.\n",
    "    \n",
    "multiple = 1\n",
    "for i in range(1,11):\n",
    "    multiple *= i\n",
    "    print(multiple)\n"
   ]
  },
  {
   "cell_type": "code",
   "execution_count": 27,
   "metadata": {},
   "outputs": [
    {
     "name": "stdout",
     "output_type": "stream",
     "text": [
      "240\n"
     ]
    }
   ],
   "source": [
    "# ----404------\n",
    "# 1부터 100까지 숫자 중 짝수 더하기\n",
    "\n",
    "reslt = 0\n",
    "\n",
    "for i in range(1,31):\n",
    "    if i % 2 ==0:\n",
    "        reslt += i\n",
    "    \n",
    "print(reslt)"
   ]
  },
  {
   "cell_type": "code",
   "execution_count": 30,
   "metadata": {},
   "outputs": [
    {
     "name": "stdout",
     "output_type": "stream",
     "text": [
      "79.0\n"
     ]
    }
   ],
   "source": [
    "# A 학급에 총 10명의 학생이 있다. 이 학생들의 중간고사 점수는 다음과 같다.\n",
    "# [70, 60, 55, 75, 95, 90, 80, 80, 85, 100]\n",
    "# for문을 사용하여 A 학급의 평균 점수를 구해 보자.\n",
    "\n",
    "scores = [70, 60, 55, 75, 95, 90, 80, 80, 85, 100]\n",
    "\n",
    "for score in scores:\n",
    "    a = sum(scores)/len(scores)\n",
    "print(a)\n",
    "\n",
    "----------------------------\n",
    "\n",
    "total = 0\n",
    "for score in scores:\n",
    "    total = total + score\n",
    "    average = total / len(scores)\n",
    "print(average)\n"
   ]
  },
  {
   "cell_type": "code",
   "execution_count": null,
   "metadata": {},
   "outputs": [],
   "source": []
  }
 ],
 "metadata": {
  "kernelspec": {
   "display_name": "Python 3",
   "language": "python",
   "name": "python3"
  },
  "language_info": {
   "codemirror_mode": {
    "name": "ipython",
    "version": 3
   },
   "file_extension": ".py",
   "mimetype": "text/x-python",
   "name": "python",
   "nbconvert_exporter": "python",
   "pygments_lexer": "ipython3",
   "version": "3.11.5"
  }
 },
 "nbformat": 4,
 "nbformat_minor": 2
}
