{
 "cells": [
  {
   "cell_type": "code",
   "execution_count": 35,
   "metadata": {},
   "outputs": [
    {
     "name": "stdout",
     "output_type": "stream",
     "text": [
      "1 100\n",
      "시크릿:90 찍는 번호: 96\n",
      "down\n",
      "1 96\n",
      "시크릿:90 찍는 번호: 60\n",
      "up\n",
      "60 96\n",
      "시크릿:90 찍는 번호: 95\n",
      "down\n",
      "60 95\n",
      "시크릿:90 찍는 번호: 70\n",
      "up\n",
      "70 95\n",
      "시크릿:90 찍는 번호: 93\n",
      "down\n",
      "70 93\n",
      "시크릿:90 찍는 번호: 73\n",
      "up\n",
      "73 93\n",
      "시크릿:90 찍는 번호: 84\n",
      "up\n",
      "84 93\n",
      "시크릿:90 찍는 번호: 90\n",
      "bingo\n"
     ]
    }
   ],
   "source": [
    "import random\n",
    "import time\n",
    "a = random.randint(1,101) # 문제\n",
    "min_value = 1\n",
    "max_value = 100\n",
    "b = random.randint(min_value,max_value) # 찍는거\n",
    "\n",
    "while True:\n",
    "    print(min_value, max_value)\n",
    "    print(f'시크릿:{a} 찍는 번호: {b}')\n",
    "    time.sleep(1)\n",
    "    if a != b:\n",
    "        if a <b:\n",
    "            print('down')\n",
    "            max_value = b\n",
    "        elif a > b:\n",
    "            print('up')\n",
    "            min_value = b\n",
    "        b = random.randint(min_value,max_value)\n",
    "    elif a ==b:\n",
    "        print('bingo')\n",
    "        break\n",
    "    "
   ]
  },
  {
   "cell_type": "code",
   "execution_count": 21,
   "metadata": {},
   "outputs": [
    {
     "name": "stdout",
     "output_type": "stream",
     "text": [
      "66\n",
      "range(0, 66)\n"
     ]
    }
   ],
   "source": [
    "import random\n",
    "b = random.randint(1,101)\n",
    "print(b)\n",
    "print(range(b))\n"
   ]
  },
  {
   "cell_type": "code",
   "execution_count": 46,
   "metadata": {},
   "outputs": [
    {
     "name": "stdout",
     "output_type": "stream",
     "text": [
      "36 69\n",
      "1 99\n",
      "down\n",
      "-------------\n",
      "36 67\n",
      "1 68\n",
      "down\n",
      "-------------\n",
      "36 8\n",
      "1 66\n",
      "up\n",
      "---------------\n",
      "36 11\n",
      "8 66\n",
      "up\n",
      "---------------\n",
      "36 44\n",
      "11 66\n",
      "down\n",
      "-------------\n",
      "36 27\n",
      "11 43\n",
      "up\n",
      "---------------\n",
      "36 42\n",
      "27 43\n",
      "down\n",
      "-------------\n",
      "36 30\n",
      "27 41\n",
      "up\n",
      "---------------\n",
      "36 30\n",
      "30 41\n",
      "up\n",
      "---------------\n",
      "36 35\n",
      "30 41\n",
      "up\n",
      "---------------\n",
      "36 35\n",
      "35 41\n",
      "up\n",
      "---------------\n",
      "36 36\n",
      "35 41\n",
      "bingo\n"
     ]
    }
   ],
   "source": [
    "import random\n",
    "min_randon = 1\n",
    "max_randon = 100\n",
    "\n",
    "secret = random.randint(1,101)\n",
    "\n",
    "\n",
    "while True:\n",
    "    randon = random.randint(min_randon,max_randon)\n",
    "    print(secret,randon)\n",
    "    print(f'{min_randon} {max_randon-1}')\n",
    "    if secret != randon:\n",
    "        if secret < randon:\n",
    "            print('down\\n-------------')\n",
    "            max_randon = randon\n",
    "        elif secret > randon:\n",
    "            print('up\\n---------------')\n",
    "            min_randon = randon\n",
    "    if secret == randon:\n",
    "        print('bingo')\n",
    "        break"
   ]
  }
 ],
 "metadata": {
  "kernelspec": {
   "display_name": "base",
   "language": "python",
   "name": "python3"
  },
  "language_info": {
   "codemirror_mode": {
    "name": "ipython",
    "version": 3
   },
   "file_extension": ".py",
   "mimetype": "text/x-python",
   "name": "python",
   "nbconvert_exporter": "python",
   "pygments_lexer": "ipython3",
   "version": "3.12.4"
  }
 },
 "nbformat": 4,
 "nbformat_minor": 2
}
