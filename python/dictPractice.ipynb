{
 "cells": [
  {
   "cell_type": "code",
   "execution_count": 3,
   "metadata": {},
   "outputs": [
    {
     "name": "stdout",
     "output_type": "stream",
     "text": [
      "이름\n"
     ]
    }
   ],
   "source": [
    "name = '이름'\n",
    "type = '제품 형태'\n",
    "dict_key = {name:['mango','watermelon','peach'],type:['sweet','no seed','pink']}\n",
    "\n",
    "# for key, value in dict_key.items():\n",
    "#     print(key, value)\n",
    "\n",
    "# for (key, value) in dict_key.items():\n",
    "#     print(key, value)\n",
    "\n",
    "dict_key.keys()\n",
    "dict_key.values()"
   ]
  },
  {
   "cell_type": "code",
   "execution_count": 9,
   "metadata": {},
   "outputs": [
    {
     "data": {
      "text/plain": [
       "('이름', ['mango', 'watermelon', 'peach'])"
      ]
     },
     "execution_count": 9,
     "metadata": {},
     "output_type": "execute_result"
    }
   ],
   "source": [
    "list(dict_key.items())\n",
    "list(dict_key.items())[0]\n",
    "# key, value = list(dict_key.items())[0]"
   ]
  },
  {
   "cell_type": "code",
   "execution_count": 6,
   "metadata": {},
   "outputs": [
    {
     "data": {
      "text/plain": [
       "dict_items([('이름', ['mango', 'watermelon', 'peach']), ('제품 형태', ['sweet', 'no seed', 'pink'])])"
      ]
     },
     "execution_count": 6,
     "metadata": {},
     "output_type": "execute_result"
    }
   ],
   "source": [
    "dict_key.items()"
   ]
  },
  {
   "cell_type": "code",
   "execution_count": 2,
   "metadata": {},
   "outputs": [
    {
     "data": {
      "text/plain": [
       "tuple"
      ]
     },
     "execution_count": 2,
     "metadata": {},
     "output_type": "execute_result"
    }
   ],
   "source": [
    "tu = ('jja','jjam')\n",
    "tu2 = 'jja','jjam','bbok'\n",
    "\n",
    "type(tu)"
   ]
  }
 ],
 "metadata": {
  "kernelspec": {
   "display_name": "Python 3",
   "language": "python",
   "name": "python3"
  },
  "language_info": {
   "codemirror_mode": {
    "name": "ipython",
    "version": 3
   },
   "file_extension": ".py",
   "mimetype": "text/x-python",
   "name": "python",
   "nbconvert_exporter": "python",
   "pygments_lexer": "ipython3",
   "version": "3.11.5"
  }
 },
 "nbformat": 4,
 "nbformat_minor": 2
}
