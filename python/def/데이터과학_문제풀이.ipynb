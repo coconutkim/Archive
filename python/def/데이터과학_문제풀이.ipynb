{
 "cells": [
  {
   "cell_type": "code",
   "execution_count": 3,
   "metadata": {},
   "outputs": [
    {
     "name": "stdout",
     "output_type": "stream",
     "text": [
      "Value: 10\n",
      "Value: 20\n"
     ]
    }
   ],
   "source": [
    "# 5-11\n",
    "\n",
    "def exam_func():\n",
    "    x = 10\n",
    "    print(\"Value:\", x)\n",
    "x = 20\n",
    "exam_func()\n",
    "print(\"Value:\", x)"
   ]
  },
  {
   "cell_type": "code",
   "execution_count": null,
   "metadata": {},
   "outputs": [],
   "source": [
    "# 5-8\n",
    "\n",
    "name = 'jiho'\n",
    "def call_my_name():\n",
    "    print(name)\n",
    "    name = 'sehoon' #지역변수\n",
    "\n",
    "call_my_name()"
   ]
  },
  {
   "cell_type": "code",
   "execution_count": 4,
   "metadata": {},
   "outputs": [
    {
     "name": "stdout",
     "output_type": "stream",
     "text": [
      "sehoon\n"
     ]
    }
   ],
   "source": [
    "# 5-8 true\n",
    "\n",
    "name = 'jiho'\n",
    "def call_my_name():\n",
    "    name = 'sehoon' #지역변수\n",
    "    print(name)\n",
    "\n",
    "call_my_name()"
   ]
  },
  {
   "cell_type": "code",
   "execution_count": 5,
   "metadata": {},
   "outputs": [
    {
     "name": "stdout",
     "output_type": "stream",
     "text": [
      "21\n",
      "4\n"
     ]
    }
   ],
   "source": [
    "def f(x):\n",
    "    y = x\n",
    "    x = 7\n",
    "    return y * x\n",
    "x = 4\n",
    "print(f(3))\n",
    "print(x)\n",
    "\n",
    "# x=3,y=3,x=7---------21\n",
    "# x=4------------------4"
   ]
  },
  {
   "cell_type": "code",
   "execution_count": 7,
   "metadata": {},
   "outputs": [
    {
     "ename": "AttributeError",
     "evalue": "'NoneType' object has no attribute 'remove'",
     "output_type": "error",
     "traceback": [
      "\u001b[1;31m---------------------------------------------------------------------------\u001b[0m",
      "\u001b[1;31mAttributeError\u001b[0m                            Traceback (most recent call last)",
      "Cell \u001b[1;32mIn[7], line 3\u001b[0m\n\u001b[0;32m      1\u001b[0m country \u001b[38;5;241m=\u001b[39m [\u001b[38;5;124m\"\u001b[39m\u001b[38;5;124mKorea\u001b[39m\u001b[38;5;124m\"\u001b[39m, \u001b[38;5;124m\"\u001b[39m\u001b[38;5;124mJapan\u001b[39m\u001b[38;5;124m\"\u001b[39m, \u001b[38;5;124m\"\u001b[39m\u001b[38;5;124mChina\u001b[39m\u001b[38;5;124m\"\u001b[39m]\n\u001b[0;32m      2\u001b[0m country \u001b[38;5;241m=\u001b[39m country\u001b[38;5;241m.\u001b[39mappend(\u001b[38;5;124m\"\u001b[39m\u001b[38;5;124mRemove\u001b[39m\u001b[38;5;124m\"\u001b[39m)\n\u001b[1;32m----> 3\u001b[0m \u001b[38;5;28mprint\u001b[39m(country\u001b[38;5;241m.\u001b[39mremove(\u001b[38;5;124m\"\u001b[39m\u001b[38;5;124mRemove\u001b[39m\u001b[38;5;124m\"\u001b[39m))\n",
      "\u001b[1;31mAttributeError\u001b[0m: 'NoneType' object has no attribute 'remove'"
     ]
    }
   ],
   "source": [
    "country = [\"Korea\", \"Japan\", \"China\"]\n",
    "country = country.append(\"Remove\")\n",
    "print(country.remove(\"Remove\"))"
   ]
  },
  {
   "cell_type": "code",
   "execution_count": 8,
   "metadata": {},
   "outputs": [
    {
     "name": "stdout",
     "output_type": "stream",
     "text": [
      "6\n"
     ]
    }
   ],
   "source": [
    "box = [1,'red',3,(),[ ],None]\n",
    "print(len(box))"
   ]
  },
  {
   "cell_type": "code",
   "execution_count": 11,
   "metadata": {},
   "outputs": [
    {
     "name": "stdout",
     "output_type": "stream",
     "text": [
      "{1, 2}\n"
     ]
    }
   ],
   "source": [
    "a = set([1,1,2])\n",
    "print(a)"
   ]
  },
  {
   "cell_type": "code",
   "execution_count": 14,
   "metadata": {},
   "outputs": [
    {
     "name": "stdout",
     "output_type": "stream",
     "text": [
      "{'a': 1, 'b': 5, 'c': 5, 'd': 5}\n",
      "5\n"
     ]
    }
   ],
   "source": [
    "# 7-4\n",
    "\n",
    "\n",
    "\n",
    "dictionary = {\"a\": 1, \"b\": 2, \"c\": 3}\n",
    "dictionary.setdefault( 'b', 4 ) \n",
    "dictionary.setdefault( 'd', 5 ) \n",
    "dictionary[\"c\"]  = dictionary[\"d\"]\n",
    "dictionary[\"b\"] = dictionary[\"c\"]\n",
    "dictionary[\"d\"]  = dictionary[\"b\"]\n",
    "print(dictionary)\n",
    "print(dictionary.setdefault('b',4))"
   ]
  },
  {
   "cell_type": "code",
   "execution_count": 13,
   "metadata": {},
   "outputs": [
    {
     "name": "stdout",
     "output_type": "stream",
     "text": [
      "Help on built-in function setdefault:\n",
      "\n",
      "setdefault(key, default=None, /) method of builtins.dict instance\n",
      "    Insert key with a value of default if key is not in the dictionary.\n",
      "\n",
      "    Return the value for key if key is in the dictionary, else default.\n",
      "\n"
     ]
    }
   ],
   "source": [
    "help(dictionary.setdefault)"
   ]
  },
  {
   "cell_type": "code",
   "execution_count": 15,
   "metadata": {},
   "outputs": [
    {
     "ename": "TypeError",
     "evalue": "'tuple' object does not support item assignment",
     "output_type": "error",
     "traceback": [
      "\u001b[1;31m---------------------------------------------------------------------------\u001b[0m",
      "\u001b[1;31mTypeError\u001b[0m                                 Traceback (most recent call last)",
      "Cell \u001b[1;32mIn[15], line 2\u001b[0m\n\u001b[0;32m      1\u001b[0m fruits \u001b[38;5;241m=\u001b[39m (\u001b[38;5;124m'\u001b[39m\u001b[38;5;124mapple\u001b[39m\u001b[38;5;124m'\u001b[39m,\u001b[38;5;124m'\u001b[39m\u001b[38;5;124mbanana\u001b[39m\u001b[38;5;124m'\u001b[39m,\u001b[38;5;124m'\u001b[39m\u001b[38;5;124mcherry\u001b[39m\u001b[38;5;124m'\u001b[39m,\u001b[38;5;124m'\u001b[39m\u001b[38;5;124mstrawberry\u001b[39m\u001b[38;5;124m'\u001b[39m)\n\u001b[1;32m----> 2\u001b[0m fruits[\u001b[38;5;241m0\u001b[39m] \u001b[38;5;241m=\u001b[39m \u001b[38;5;124m'\u001b[39m\u001b[38;5;124morange\u001b[39m\u001b[38;5;124m'\u001b[39m\n",
      "\u001b[1;31mTypeError\u001b[0m: 'tuple' object does not support item assignment"
     ]
    }
   ],
   "source": [
    "# 7-6\n",
    "# 튜플은 값을 바꿀 수 없다\n",
    "\n",
    "fruits = ('apple','banana','cherry','strawberry')\n",
    "fruits[0] = 'orange'"
   ]
  },
  {
   "cell_type": "code",
   "execution_count": 16,
   "metadata": {},
   "outputs": [
    {
     "name": "stdout",
     "output_type": "stream",
     "text": [
      "[1, 3, 4, 5]\n"
     ]
    }
   ],
   "source": [
    "def quiz_2(list_data): \n",
    "    a = set(list_data)\n",
    "    return (list(a)[1:5])\n",
    "list_1 = [0, 3, 1, 7, 5, 0, 5, 8, 0, 4]\n",
    "print(quiz_2(list_1))"
   ]
  },
  {
   "cell_type": "code",
   "execution_count": 17,
   "metadata": {},
   "outputs": [
    {
     "ename": "TypeError",
     "evalue": "can only concatenate str (not \"int\") to str",
     "output_type": "error",
     "traceback": [
      "\u001b[1;31m---------------------------------------------------------------------------\u001b[0m",
      "\u001b[1;31mTypeError\u001b[0m                                 Traceback (most recent call last)",
      "Cell \u001b[1;32mIn[17], line 4\u001b[0m\n\u001b[0;32m      2\u001b[0m midterm_set \u001b[38;5;241m=\u001b[39m \u001b[38;5;28mset\u001b[39m([\u001b[38;5;241m1\u001b[39m, \u001b[38;5;241m5\u001b[39m, \u001b[38;5;241m7\u001b[39m, \u001b[38;5;241m4\u001b[39m, \u001b[38;5;241m3\u001b[39m, \u001b[38;5;241m2\u001b[39m, \u001b[38;5;241m1\u001b[39m, \u001b[38;5;241m1\u001b[39m, \u001b[38;5;241m2\u001b[39m, \u001b[38;5;241m3\u001b[39m])\n\u001b[0;32m      3\u001b[0m \u001b[38;5;28;01mfor\u001b[39;00m i \u001b[38;5;129;01min\u001b[39;00m midterm_set:\n\u001b[1;32m----> 4\u001b[0m     a \u001b[38;5;241m=\u001b[39m a\u001b[38;5;241m+\u001b[39mi\n\u001b[0;32m      5\u001b[0m \u001b[38;5;28mprint\u001b[39m(a)\n",
      "\u001b[1;31mTypeError\u001b[0m: can only concatenate str (not \"int\") to str"
     ]
    }
   ],
   "source": [
    "# 7-13\n",
    "\n",
    "# 자료형태 맞추기\n",
    "\n",
    "a = \"\"\n",
    "midterm_set = set([1, 5, 7, 4, 3, 2, 1, 1, 2, 3])\n",
    "for i in midterm_set:\n",
    "    a = a+i\n",
    "print(a)"
   ]
  },
  {
   "cell_type": "code",
   "execution_count": 18,
   "metadata": {},
   "outputs": [
    {
     "name": "stdout",
     "output_type": "stream",
     "text": [
      "19\n"
     ]
    }
   ],
   "source": [
    "def week_seven(sentence1):\n",
    "    cells = set(sentence1.replace(' ','').lower())\n",
    "    return cells\n",
    "sentence_a = \"The quick brown fox jumps over the lazy dog\"\n",
    "sentence_b = \"I love you\"    \n",
    "print(len(week_seven(sentence_a)-week_seven(sentence_b)))"
   ]
  },
  {
   "cell_type": "code",
   "execution_count": null,
   "metadata": {},
   "outputs": [],
   "source": [
    "# 리스트 내포와 같이 딕셔너리 내포(comprehension)\n",
    "\n",
    "dog_song = \"my dog has brown eyes, my dog is cute\"\n",
    "print({i:j for j,i in enumerate(dog_song.split())})"
   ]
  },
  {
   "cell_type": "code",
   "execution_count": 20,
   "metadata": {},
   "outputs": [
    {
     "name": "stdout",
     "output_type": "stream",
     "text": [
      "[(1, 4, 7), (2, 5, 8), (3, 6, 9)]\n"
     ]
    }
   ],
   "source": [
    "a = [1, 2, 3]\n",
    "b = [4, 5, 6]\n",
    "c = [7, 8, 9]\n",
    "k = zip(a,b,c)\n",
    "\n",
    "print(list(k))"
   ]
  },
  {
   "cell_type": "code",
   "execution_count": 21,
   "metadata": {},
   "outputs": [
    {
     "data": {
      "text/plain": [
       "[(1, 2, 3), (4, 5, 6), (7, 8, 9)]"
      ]
     },
     "execution_count": 21,
     "metadata": {},
     "output_type": "execute_result"
    }
   ],
   "source": [
    "def transpose_list(two_dimensional_list):  \n",
    "    return [row for row in zip(*two_dimensional_list)]\n",
    "\n",
    "transpose_list([[1, 4, 7], [2, 5, 8], [3, 6, 9]])"
   ]
  },
  {
   "cell_type": "code",
   "execution_count": 22,
   "metadata": {},
   "outputs": [
    {
     "name": "stdout",
     "output_type": "stream",
     "text": [
      "2019-9-6\n"
     ]
    }
   ],
   "source": [
    "date_info = {'year': \"2019\", 'month': \"9\", 'day': \"6\"}\n",
    "result = \"{year}-{month}-{day}\".format(**date_info)\n",
    "print(result )"
   ]
  },
  {
   "cell_type": "code",
   "execution_count": 23,
   "metadata": {},
   "outputs": [
    {
     "name": "stdout",
     "output_type": "stream",
     "text": [
      "I left the company\n",
      "I got a job at a company\n",
      "My name is james\n",
      "I am a man\n"
     ]
    }
   ],
   "source": [
    "class Company:\n",
    "    def __init__(self):\n",
    "        self.work = True\n",
    "        self.name = 'Jane'\n",
    "        self.gender = 'woman'\n",
    "        \n",
    "    def retire(self):\n",
    "        self.work = False\n",
    "class Employee(Company):\n",
    "    def __init__(self, name, gender):\n",
    "        super().__init__()\n",
    "        self.name = name\n",
    "        self.gender = gender\n",
    "        \n",
    "    def introduce(self):\n",
    "        if self.work == True:\n",
    "            print('I got a job at a company')\n",
    "            print('My name is', self.name)\n",
    "            print('I am a', self.gender)\n",
    "        if self.work == False:\n",
    "            print('I left the company')\n",
    "            \n",
    "em = Employee('james', 'man')\n",
    "em.retire()\n",
    "em.introduce()\n",
    "Employee('james', 'man').introduce()"
   ]
  },
  {
   "cell_type": "code",
   "execution_count": 24,
   "metadata": {},
   "outputs": [
    {
     "name": "stdout",
     "output_type": "stream",
     "text": [
      "Korean\n",
      "English\n",
      "I'm Groot!\n"
     ]
    }
   ],
   "source": [
    "class Person(object):\n",
    "    def __init__(self, name): \n",
    "        self.name = name\n",
    "def language(self): \n",
    "    pass\n",
    "class Earthling(Person):\n",
    "    def language(self, language): \n",
    "        return language\n",
    "class Groot(Person):\n",
    "    def language(self, language): \n",
    "        return \"I'm Groot!\"\n",
    "name = ['Hanbit', 'Dr.Strange', 'Groot']\n",
    "country = ['Korea', 'USA', 'Galaxy']\n",
    "language = ['Korean', 'English', 'Groot']\n",
    "for idx, name in enumerate(name):\n",
    "    if country[idx].upper() != 'GALAXY': \n",
    "        person = Earthling(name) \n",
    "        print(person.language(language[idx]))\n",
    "    else:\n",
    "        groot = Groot(name) \n",
    "        print(groot.language(language[idx]))"
   ]
  },
  {
   "cell_type": "code",
   "execution_count": 25,
   "metadata": {},
   "outputs": [
    {
     "name": "stdout",
     "output_type": "stream",
     "text": [
      "LG에서 만든 2022년형 32인치 TV\n",
      "Samsung에서 만든 2023년형 15인치 노트북\n"
     ]
    }
   ],
   "source": [
    "class TV(object):\n",
    "    def __init__(self, size, year, company): \n",
    "        self.size = size\n",
    "        self.year = year \n",
    "        self.company = company\n",
    "    def describe(self):\n",
    "        print(self.company + \"에서 만든 \" + self.year + \"년형 \" \\\n",
    "              + self.size + \"인치 \" + \"TV\")\n",
    "class Laptop(TV):\n",
    "    def describe(self):\n",
    "        print(self.company + \"에서 만든 \" + self.year + \"년형 \" \\\n",
    "               + self.size + \"인치 \" + \"노트북\")\n",
    "LG_TV = TV(\"32\", \"2022\", \"LG\")\n",
    "LG_TV.describe()\n",
    "samsung_microwave = Laptop(\"15\" , \"2023\", \"Samsung\")\n",
    "samsung_microwave.describe()"
   ]
  },
  {
   "cell_type": "code",
   "execution_count": 26,
   "metadata": {},
   "outputs": [
    {
     "name": "stdout",
     "output_type": "stream",
     "text": [
      "이름 : John\n",
      "나이 : 22\n",
      "직위 : 연구원\n",
      "저는 한빛대학교 연구원 John입니다. 나이는 22입니 다.\n",
      "저는 학사 입니다.\n",
      "==================================================\n",
      "이름 : Tedd\n",
      "나이 : 40\n",
      "직위 : 소장\n",
      "저는 한빛대학교 소장 Tedd입니다. 나이는 40입니 다.\n",
      "저는 박사 입니다.\n"
     ]
    }
   ],
   "source": [
    "class Person:\n",
    "    def __init__(self, name, age, position):\n",
    "        self.Name = name\n",
    "        self.Age = age \n",
    "        self.Position = position\n",
    "    def show_info(self):\n",
    "        print('이름 : {0}'.format(self.Name))\n",
    "        print('나이 : {0}'.format(self.Age))\n",
    "        print('직위 : {0}'.format(self.Position))\n",
    "        print(\"저는 한빛대학교 {0} {1}입니다. 나이는 {2}입니 다.\".format(\n",
    "               self.Position, self.Name, self.Age))\n",
    "class Researcher(Person):\n",
    "    def __init__(self, name, age, position, degree): \n",
    "        Person.__init__(self, name, age, position) \n",
    "        self.Degree = degree    \n",
    "    def show_info(self): \n",
    "        Person.show_info(self)\n",
    "        print(\"저는 {0} 입니다.\".format(self.Degree))\n",
    "if __name__ == '__main__':\n",
    "    researcher_john = Researcher(\"John\",\"22\", \"연구원\", \"학사\")\n",
    "    researcher_tedd = Researcher(\"Tedd\", \"40\", \"소장\", \"박사\") \n",
    "    researcher_john.show_info()\n",
    "    print(\"=\"*50) \n",
    "    researcher_tedd.show_info()\n"
   ]
  },
  {
   "cell_type": "code",
   "execution_count": 27,
   "metadata": {},
   "outputs": [
    {
     "name": "stdout",
     "output_type": "stream",
     "text": [
      "아이스크림을 레인보우 샤베트에서 바람과 함께 사라지다로 변경해주세요.\n",
      "아이스크림 맛을 바람과 함께 사라지다로 변경해드렸어요.\n"
     ]
    }
   ],
   "source": [
    "class IceCream(object):\n",
    "    def __init__(self, flavor):\n",
    "        self.flavor = flavor\n",
    "    def change_flavor(self, new_flavor):\n",
    "        print('아이스크림을 %s에서 %s로 변경해주세요.' %(self.flavor, \n",
    "new_flavor))\n",
    "        self.flavor = new_flavor\n",
    "        print('아이스크림 맛을 %s로 변경해드렸어요.' %self.flavor)\n",
    "ice_cream = IceCream('레인보우 샤베트')\n",
    "ice_cream.change_flavor('바람과 함께 사라지다')"
   ]
  }
 ],
 "metadata": {
  "kernelspec": {
   "display_name": "base",
   "language": "python",
   "name": "python3"
  },
  "language_info": {
   "codemirror_mode": {
    "name": "ipython",
    "version": 3
   },
   "file_extension": ".py",
   "mimetype": "text/x-python",
   "name": "python",
   "nbconvert_exporter": "python",
   "pygments_lexer": "ipython3",
   "version": "3.12.4"
  }
 },
 "nbformat": 4,
 "nbformat_minor": 2
}
