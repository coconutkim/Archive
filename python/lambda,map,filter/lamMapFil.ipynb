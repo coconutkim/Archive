{
 "cells": [
  {
   "cell_type": "code",
   "execution_count": 2,
   "metadata": {},
   "outputs": [
    {
     "name": "stdout",
     "output_type": "stream",
     "text": [
      "<function <lambda> at 0x000001EB219A96C0>\n",
      "hi\n",
      "None\n"
     ]
    }
   ],
   "source": [
    "f1 = lambda : print('hi')\n",
    "print(f1)\n",
    "print(f1())"
   ]
  },
  {
   "cell_type": "code",
   "execution_count": 3,
   "metadata": {},
   "outputs": [
    {
     "name": "stdout",
     "output_type": "stream",
     "text": [
      "candy\n",
      "None\n"
     ]
    }
   ],
   "source": [
    "f2 = lambda gift: print('candy')\n",
    "print(f2('ant'))\n",
    "# 람다 함수나 일반 함수가 값을 반환하지 않으면\n",
    "# 참고로 반환값은 return을 말한다\n",
    "# 즉 반환값이 없으면 기본적으로 none이 반환된다\n",
    "\n",
    "# 프린트 함수는 전달된 값을 출력하지만\n",
    "# 만약 그 값이 넌이라면 넌이 출력된다\n",
    "\n",
    "# 암시적 반환값(none)\n"
   ]
  },
  {
   "cell_type": "code",
   "execution_count": 4,
   "metadata": {},
   "outputs": [
    {
     "name": "stdout",
     "output_type": "stream",
     "text": [
      "<function <lambda> at 0x000001EB21A53920>\n",
      "candy\n"
     ]
    }
   ],
   "source": [
    "f3 = lambda : 'candy'\n",
    "print(f3)\n",
    "print(f3())"
   ]
  },
  {
   "cell_type": "code",
   "execution_count": 5,
   "metadata": {},
   "outputs": [
    {
     "name": "stdout",
     "output_type": "stream",
     "text": [
      "candy\n"
     ]
    }
   ],
   "source": [
    "f4 = lambda gift: 'candy'\n",
    "print(f4('candy'))"
   ]
  },
  {
   "cell_type": "markdown",
   "metadata": {},
   "source": [
    "지금 이 글을 쓰고 있는 마크다운이란 무엇인가\n",
    "-일반 텍스트 문서의 양식을 편집하는 문법\n",
    "-html의 형태로 반환이 가능하다\n",
    "\n",
    "map\n",
    "-파이선 내장 함수\n",
    "-주어진 함수와 반복 가능한 자료형을 인자로 받아 각 요소에 함수를 적용한 결과를 반환\n",
    "-반환되는 값은 맵의 객체"
   ]
  },
  {
   "cell_type": "code",
   "execution_count": 7,
   "metadata": {},
   "outputs": [
    {
     "name": "stdout",
     "output_type": "stream",
     "text": [
      "[2, 3, 4]\n"
     ]
    }
   ],
   "source": [
    "print(list(map(lambda x:x+1,[1,2,3])))\n"
   ]
  },
  {
   "cell_type": "code",
   "execution_count": 8,
   "metadata": {},
   "outputs": [
    {
     "name": "stdout",
     "output_type": "stream",
     "text": [
      "[3, 4, 5, 6, 7]\n"
     ]
    }
   ],
   "source": [
    "numbers = [1,2,3,4,5]\n",
    "\n",
    "result = map(lambda x:x+2,numbers)\n",
    "\n",
    "print(list(result))"
   ]
  },
  {
   "cell_type": "code",
   "execution_count": 9,
   "metadata": {},
   "outputs": [
    {
     "name": "stdout",
     "output_type": "stream",
     "text": [
      "['1', '2', '3', '4', '5']\n"
     ]
    }
   ],
   "source": [
    "numbers = [1,2,3,4,5]\n",
    "\n",
    "result = map(str,numbers)\n",
    "\n",
    "print(list(result))"
   ]
  },
  {
   "cell_type": "code",
   "execution_count": 12,
   "metadata": {},
   "outputs": [
    {
     "data": {
      "text/plain": [
       "[1, 2, 3]"
      ]
     },
     "execution_count": 12,
     "metadata": {},
     "output_type": "execute_result"
    }
   ],
   "source": [
    "[i for i in [-3,-2,-1,0,1,2,3] if i>0]\n",
    "list(filter(lambda li:li>0,[-3,-2,-1,0,1,2,3]))"
   ]
  },
  {
   "cell_type": "code",
   "execution_count": 14,
   "metadata": {},
   "outputs": [
    {
     "data": {
      "text/plain": [
       "[(1, 4), (2, 5), (3, 6)]"
      ]
     },
     "execution_count": 14,
     "metadata": {},
     "output_type": "execute_result"
    }
   ],
   "source": [
    "list(zip([1,2,3],[4,5,6]))"
   ]
  },
  {
   "cell_type": "code",
   "execution_count": 21,
   "metadata": {},
   "outputs": [
    {
     "name": "stdout",
     "output_type": "stream",
     "text": [
      "['A', 'B', 'C']\n",
      "<generator object yield_abc at 0x000001C46783F110>\n"
     ]
    }
   ],
   "source": [
    "def return_abc():\n",
    "    return list('ABC')\n",
    "print(return_abc())\n",
    "\n",
    "def yield_abc():\n",
    "    yield 'a'\n",
    "    yield 'b'\n",
    "    yield 'c'\n",
    "print(yield_abc())"
   ]
  }
 ],
 "metadata": {
  "kernelspec": {
   "display_name": "base",
   "language": "python",
   "name": "python3"
  },
  "language_info": {
   "codemirror_mode": {
    "name": "ipython",
    "version": 3
   },
   "file_extension": ".py",
   "mimetype": "text/x-python",
   "name": "python",
   "nbconvert_exporter": "python",
   "pygments_lexer": "ipython3",
   "version": "3.12.4"
  }
 },
 "nbformat": 4,
 "nbformat_minor": 2
}
