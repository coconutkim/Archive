{
 "cells": [
  {
   "cell_type": "code",
   "execution_count": 2,
   "metadata": {},
   "outputs": [
    {
     "name": "stdout",
     "output_type": "stream",
     "text": [
      "{'name': '기사', 'hp': 200, 'mp': 30, 'level': 5}\n"
     ]
    }
   ],
   "source": [
    "key_list = ['name','hp','mp','level']\n",
    "value_list = ['기사',200,30,5]\n",
    "character = {}\n",
    "\n",
    "for i in range(len(key_list)):\n",
    "    v = value_list[i]\n",
    "    character[key_list[i]] = v\n",
    "\n",
    "print(character)\n"
   ]
  },
  {
   "cell_type": "code",
   "execution_count": 3,
   "metadata": {},
   "outputs": [
    {
     "name": "stdout",
     "output_type": "stream",
     "text": [
      "{'name': '기사', 'hp': 200, 'mp': 30, 'level': 5}\n"
     ]
    }
   ],
   "source": [
    "key_list = ['name','hp','mp','level']\n",
    "value_list = ['기사',200,30,5]\n",
    "character = {}\n",
    "\n",
    "for i in range(len(key_list)):\n",
    "    character[key_list[i]] = value_list[i]\n",
    "\n",
    "print(character)"
   ]
  },
  {
   "cell_type": "code",
   "execution_count": null,
   "metadata": {},
   "outputs": [],
   "source": [
    "key_list = ['name','hp','mp','level']\n",
    "value_list = ['기사',200,30,5]\n",
    "character = {}\n",
    "\n",
    "for i, v in enumerate(key_list):\n",
    "    character[v] = value_list[i]\n",
    "print(character)"
   ]
  },
  {
   "cell_type": "code",
   "execution_count": null,
   "metadata": {},
   "outputs": [],
   "source": [
    "key_list = ['name','hp','mp','level']\n",
    "value_list = ['기사',200,30,5]\n",
    "character = {}\n",
    "\n",
    "i = 0\n",
    "for v in key_list:\n",
    "    character[v] = value_list[i]\n",
    "    i += 1\n",
    "print(character)"
   ]
  }
 ],
 "metadata": {
  "kernelspec": {
   "display_name": "Python 3",
   "language": "python",
   "name": "python3"
  },
  "language_info": {
   "codemirror_mode": {
    "name": "ipython",
    "version": 3
   },
   "file_extension": ".py",
   "mimetype": "text/x-python",
   "name": "python",
   "nbconvert_exporter": "python",
   "pygments_lexer": "ipython3",
   "version": "3.11.5"
  }
 },
 "nbformat": 4,
 "nbformat_minor": 2
}
