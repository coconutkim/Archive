{
 "cells": [
  {
   "cell_type": "code",
   "execution_count": 2,
   "metadata": {},
   "outputs": [
    {
     "name": "stdout",
     "output_type": "stream",
     "text": [
      "{'name': '기사', 'hp': 200, 'mp': 30, 'level': 5}\n"
     ]
    }
   ],
   "source": [
    "key_list = ['name','hp','mp','level']\n",
    "value_list = ['기사',200,30,5]\n",
    "character = {}\n",
    "\n",
    "for i in range(len(key_list)):\n",
    "    v = value_list[i]\n",
    "    character[key_list[i]] = v\n",
    "\n",
    "print(character)\n"
   ]
  },
  {
   "cell_type": "code",
   "execution_count": 3,
   "metadata": {},
   "outputs": [
    {
     "name": "stdout",
     "output_type": "stream",
     "text": [
      "{'name': '기사', 'hp': 200, 'mp': 30, 'level': 5}\n"
     ]
    }
   ],
   "source": [
    "key_list = ['name','hp','mp','level']\n",
    "value_list = ['기사',200,30,5]\n",
    "character = {}\n",
    "\n",
    "for i in range(len(key_list)):\n",
    "    character[key_list[i]] = value_list[i]\n",
    "\n",
    "print(character)"
   ]
  },
  {
   "cell_type": "code",
   "execution_count": 4,
   "metadata": {},
   "outputs": [
    {
     "name": "stdout",
     "output_type": "stream",
     "text": [
      "{'name': '기사', 'hp': 200, 'mp': 30, 'level': 5}\n"
     ]
    }
   ],
   "source": [
    "key_list = ['name','hp','mp','level']\n",
    "value_list = ['기사',200,30,5]\n",
    "character = {}\n",
    "\n",
    "for i, v in enumerate(key_list):\n",
    "    character[v] = value_list[i]\n",
    "    \n",
    "print(character)"
   ]
  },
  {
   "cell_type": "code",
   "execution_count": 5,
   "metadata": {},
   "outputs": [
    {
     "name": "stdout",
     "output_type": "stream",
     "text": [
      "{'name': '기사', 'hp': 200, 'mp': 30, 'level': 5}\n"
     ]
    }
   ],
   "source": [
    "key_list = ['name','hp','mp','level']\n",
    "value_list = ['기사',200,30,5]\n",
    "character = {}\n",
    "\n",
    "i = 0\n",
    "for v in key_list:\n",
    "    character[v] = value_list[i]\n",
    "    i += 1\n",
    "    \n",
    "print(character)"
   ]
  },
  {
   "cell_type": "code",
   "execution_count": 14,
   "metadata": {},
   "outputs": [
    {
     "name": "stdout",
     "output_type": "stream",
     "text": [
      "10011\n"
     ]
    }
   ],
   "source": [
    "tot = 0\n",
    "\n",
    "# for i in range(1,10000+1):\n",
    "#     tot = tot + i\n",
    "#     if tot > 10000:\n",
    "#         print(i)\n",
    "#         break\n",
    "\n",
    "for i in range(1,141+1):\n",
    "    tot = tot + i\n",
    "\n",
    "print(tot)"
   ]
  },
  {
   "cell_type": "code",
   "execution_count": 16,
   "metadata": {},
   "outputs": [
    {
     "name": "stdout",
     "output_type": "stream",
     "text": [
      "10011\n"
     ]
    }
   ],
   "source": [
    "tot = 0\n",
    "for i in range(1,141+1):\n",
    "    tot = tot+i\n",
    "print(tot)"
   ]
  },
  {
   "cell_type": "code",
   "execution_count": 17,
   "metadata": {},
   "outputs": [
    {
     "name": "stdout",
     "output_type": "stream",
     "text": [
      "142를 더할 때 10000을 넘으며 그때의 값은 10011입니다.\n"
     ]
    }
   ],
   "source": [
    "# 1부터 숫자를 하나씩 증가시키면서 더하는 경우를 생각해 봅시다.\n",
    "#    몇을 더할 때 1000을 넘는지 구해 보세요. 그리고 그때의 값도\n",
    "#    출력해 보세요. 다음은 1000이 넘는 경우를 구한 예입니다.\n",
    "limit = 10000\n",
    "i = 1\n",
    "\n",
    "sum_value = 0\n",
    "# 몇 번 돌려야 할지 모를 때 while\n",
    "while sum_value <limit:\n",
    "    sum_value += i\n",
    "    i +=1  \n",
    "\n",
    "print(f'{i}를 더할 때 {limit}을 넘으며 그때의 값은 {sum_value}입니다.')"
   ]
  },
  {
   "cell_type": "code",
   "execution_count": 22,
   "metadata": {},
   "outputs": [
    {
     "name": "stdout",
     "output_type": "stream",
     "text": [
      "최대가 되는 경우 50 * 50 = 2500\n"
     ]
    }
   ],
   "source": [
    "max_value = 0\n",
    "a = 0\n",
    "b = 0\n",
    "\n",
    "for i in range(1,100//2+1):\n",
    "    j = 100-i\n",
    "\n",
    "    if max_value<i*j:\n",
    "        max_value = i*j\n",
    "        a=i\n",
    "        b=j\n",
    "\n",
    "print('최대가 되는 경우 {} * {} = {}'.format(a,b,max_value))"
   ]
  },
  {
   "cell_type": "code",
   "execution_count": 21,
   "metadata": {},
   "outputs": [
    {
     "name": "stdout",
     "output_type": "stream",
     "text": [
      "50*50=2500\n"
     ]
    }
   ],
   "source": [
    "max_value = 0\n",
    "a = 0\n",
    "b = 0\n",
    "\n",
    "for i in range(1,100//2+1):\n",
    "    j = 100-i\n",
    "\n",
    "    tmp = i*j\n",
    "    if max_value < tmp:\n",
    "        a = i\n",
    "        b = j\n",
    "        max_value = tmp\n",
    "\n",
    "print(f'{a}*{b}={max_value}')"
   ]
  },
  {
   "cell_type": "code",
   "execution_count": 25,
   "metadata": {},
   "outputs": [
    {
     "name": "stdout",
     "output_type": "stream",
     "text": [
      "50 * 50 = 2500\n"
     ]
    }
   ],
   "source": [
    "max_value = 0\n",
    "a = 0\n",
    "b = 0\n",
    "\n",
    "for i in range(1,100//2+1):\n",
    "    j = 100-i\n",
    "\n",
    "if max_value < i*j:\n",
    "    a = i\n",
    "    b = j\n",
    "    max_value = i*j\n",
    "\n",
    "print(f'{a} * {b} = {max_value}')"
   ]
  }
 ],
 "metadata": {
  "kernelspec": {
   "display_name": "Python 3",
   "language": "python",
   "name": "python3"
  },
  "language_info": {
   "codemirror_mode": {
    "name": "ipython",
    "version": 3
   },
   "file_extension": ".py",
   "mimetype": "text/x-python",
   "name": "python",
   "nbconvert_exporter": "python",
   "pygments_lexer": "ipython3",
   "version": "3.11.5"
  }
 },
 "nbformat": 4,
 "nbformat_minor": 2
}
