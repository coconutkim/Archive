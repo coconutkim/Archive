{
 "cells": [
  {
   "cell_type": "code",
   "execution_count": 6,
   "metadata": {},
   "outputs": [
    {
     "name": "stdout",
     "output_type": "stream",
     "text": [
      "{'a': 'knight', 'b': 200, 'c': 30, 'd': 5}\n"
     ]
    }
   ],
   "source": [
    "key_list = ['a','b','c','d']\n",
    "value_list = ['knight',200,30,5]\n",
    "character = {}\n",
    "\n",
    "for k in range(len(key_list)):\n",
    "    v = value_list[k]\n",
    "    character[key_list[k]] = v\n",
    "\n",
    "print(character)"
   ]
  },
  {
   "cell_type": "code",
   "execution_count": 13,
   "metadata": {},
   "outputs": [
    {
     "name": "stdout",
     "output_type": "stream",
     "text": [
      "142 10000 10011\n"
     ]
    }
   ],
   "source": [
    "limit = 10000\n",
    "i = 1\n",
    "sum_value = 0\n",
    "\n",
    "while sum_value < 10000:\n",
    "    sum_value += i\n",
    "    i += 1\n",
    "\n",
    "\n",
    "print(f'{i} {limit} {sum_value}')"
   ]
  },
  {
   "cell_type": "code",
   "execution_count": 22,
   "metadata": {},
   "outputs": [
    {
     "name": "stdout",
     "output_type": "stream",
     "text": [
      "50 50 2500\n"
     ]
    }
   ],
   "source": [
    "max_value = 0\n",
    "a = 0\n",
    "b = 0\n",
    "\n",
    "for i in range(1,100):\n",
    "    j = 100-i\n",
    "    \n",
    "    if max_value < i*j:\n",
    "        max_value = i*j\n",
    "        a = i\n",
    "        b = j\n",
    "    \n",
    "print(f'{a} {b} {max_value}')\n",
    "    \n"
   ]
  },
  {
   "cell_type": "code",
   "execution_count": null,
   "metadata": {},
   "outputs": [],
   "source": []
  }
 ],
 "metadata": {
  "kernelspec": {
   "display_name": "base",
   "language": "python",
   "name": "python3"
  },
  "language_info": {
   "codemirror_mode": {
    "name": "ipython",
    "version": 3
   },
   "file_extension": ".py",
   "mimetype": "text/x-python",
   "name": "python",
   "nbconvert_exporter": "python",
   "pygments_lexer": "ipython3",
   "version": "3.12.4"
  }
 },
 "nbformat": 4,
 "nbformat_minor": 2
}
