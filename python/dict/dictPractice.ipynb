{
 "cells": [
  {
   "cell_type": "code",
   "execution_count": 1,
   "metadata": {},
   "outputs": [
    {
     "data": {
      "text/plain": [
       "dict_values([['mango', 'watermelon', 'peach'], ['sweet', 'no seed', 'pink']])"
      ]
     },
     "execution_count": 1,
     "metadata": {},
     "output_type": "execute_result"
    }
   ],
   "source": [
    "name = '이름'\n",
    "type = '제품 형태'\n",
    "dict_key = {name:['mango','watermelon','peach'],type:['sweet','no seed','pink']}\n",
    "\n",
    "# for key, value in dict_key.items():\n",
    "#     print(key, value)\n",
    "\n",
    "# for (key, value) in dict_key.items():\n",
    "#     print(key, value)\n",
    "\n",
    "dict_key.keys()\n",
    "dict_key.values()"
   ]
  },
  {
   "cell_type": "code",
   "execution_count": 22,
   "metadata": {},
   "outputs": [
    {
     "name": "stdout",
     "output_type": "stream",
     "text": [
      "{'fish'}\n"
     ]
    }
   ],
   "source": [
    "list(dict_key.items())\n",
    "list(dict_key.items())[0]\n",
    "# key, value = list(dict_key.items())[0]\n",
    "dict_key[name]\n",
    "dict_key[name] = 'berry'\n",
    "dict_key\n",
    "dict_key[type] = 'raspberry'\n",
    "dict_key\n",
    "dict_key[name] = 'fish'\n",
    "dict_key\n",
    "dict_key[type] = 'salmon','tuna','anchovy'\n",
    "dict_key\n",
    "dict_key[type][2]\n",
    "food = {'fish':\n",
    "print(food)"
   ]
  },
  {
   "cell_type": "code",
   "execution_count": 6,
   "metadata": {},
   "outputs": [
    {
     "data": {
      "text/plain": [
       "dict_items([('이름', ['mango', 'watermelon', 'peach']), ('제품 형태', ['sweet', 'no seed', 'pink'])])"
      ]
     },
     "execution_count": 6,
     "metadata": {},
     "output_type": "execute_result"
    }
   ],
   "source": [
    "dict_key.items()"
   ]
  },
  {
   "cell_type": "code",
   "execution_count": 25,
   "metadata": {},
   "outputs": [
    {
     "name": "stdout",
     "output_type": "stream",
     "text": [
      "{}\n"
     ]
    }
   ],
   "source": [
    "# dict_a = {}\n",
    "# dict_a = {'name':'구름'}\n",
    "# print(dict_a)\n",
    "\n",
    "dict_a = {'name':'구름'}\n",
    "dict_a = {}\n",
    "print(dict_a)"
   ]
  },
  {
   "cell_type": "code",
   "execution_count": 2,
   "metadata": {},
   "outputs": [
    {
     "data": {
      "text/plain": [
       "tuple"
      ]
     },
     "execution_count": 2,
     "metadata": {},
     "output_type": "execute_result"
    }
   ],
   "source": [
    "tu = ('jja','jjam')\n",
    "tu2 = 'jja','jjam','bbok'\n",
    "\n",
    "type(tu)"
   ]
  },
  {
   "cell_type": "code",
   "execution_count": 109,
   "metadata": {},
   "outputs": [
    {
     "name": "stdout",
     "output_type": "stream",
     "text": [
      "{1: 3, 2: 4, 6: 1, 8: 2, 4: 3, 3: 3, 9: 3, 5: 2, 7: 2}\n"
     ]
    }
   ],
   "source": [
    "numbers = [1,2,6,8,4,3,2,1,9,5,4,9,7,2,1,3,5,4,8,9,7,2,3]\n",
    "counter = {}\n",
    "\n",
    "for number in numbers:\n",
    "    a = numbers.count(number)\n",
    "    counter[number] = a\n",
    "    \n",
    "print(counter)\n",
    "\n"
   ]
  },
  {
   "cell_type": "code",
   "execution_count": 134,
   "metadata": {},
   "outputs": [
    {
     "name": "stdout",
     "output_type": "stream",
     "text": [
      "name : 기사\n"
     ]
    },
    {
     "ename": "TypeError",
     "evalue": "list indices must be integers or slices, not str",
     "output_type": "error",
     "traceback": [
      "\u001b[1;31m---------------------------------------------------------------------------\u001b[0m",
      "\u001b[1;31mTypeError\u001b[0m                                 Traceback (most recent call last)",
      "Cell \u001b[1;32mIn[134], line 14\u001b[0m\n\u001b[0;32m     12\u001b[0m \u001b[38;5;28mprint\u001b[39m(key,\u001b[38;5;124m'\u001b[39m\u001b[38;5;124m:\u001b[39m\u001b[38;5;124m'\u001b[39m,character[key])\n\u001b[0;32m     13\u001b[0m \u001b[38;5;28;01mfor\u001b[39;00m key \u001b[38;5;129;01min\u001b[39;00m character[\u001b[38;5;124m'\u001b[39m\u001b[38;5;124mskill\u001b[39m\u001b[38;5;124m'\u001b[39m]:\n\u001b[1;32m---> 14\u001b[0m     \u001b[38;5;28mprint\u001b[39m(key,\u001b[38;5;124m'\u001b[39m\u001b[38;5;124m:\u001b[39m\u001b[38;5;124m'\u001b[39m,\u001b[43mcharacter\u001b[49m\u001b[43m[\u001b[49m\u001b[38;5;124;43m'\u001b[39;49m\u001b[38;5;124;43mskill\u001b[39;49m\u001b[38;5;124;43m'\u001b[39;49m\u001b[43m]\u001b[49m\u001b[43m[\u001b[49m\u001b[43mkey\u001b[49m\u001b[43m]\u001b[49m)\n",
      "\u001b[1;31mTypeError\u001b[0m: list indices must be integers or slices, not str"
     ]
    }
   ],
   "source": [
    "character = {\n",
    "    'name': '기사',\n",
    "    'level':12,\n",
    "    'items': {\n",
    "        'sword':'불꽃의 검',\n",
    "        'armor':'풀플레이트'\n",
    "    },\n",
    "    'skill':['베기','세게 베기','아주 세게 베기']\n",
    "}\n",
    "\n",
    "for key in character:\n",
    "    print(key,':',character[key])\n",
    "    a = character['skill']\n",
    "    print(key,':',character['skill'][key])\n",
    "    "
   ]
  },
  {
   "cell_type": "code",
   "execution_count": 142,
   "metadata": {},
   "outputs": [
    {
     "name": "stdout",
     "output_type": "stream",
     "text": [
      "{1: 3, 2: 4, 6: 1, 8: 2, 4: 3, 3: 3, 9: 3, 5: 2, 7: 2}\n"
     ]
    },
    {
     "data": {
      "text/plain": [
       "[1, 2, 3, 4, 5, 6, 7, 8, 9]"
      ]
     },
     "execution_count": 142,
     "metadata": {},
     "output_type": "execute_result"
    }
   ],
   "source": [
    "numbers = [1,2,6,8,4,3,2,1,9,5,4,9,7,2,1,3,5,4,8,9,7,2,3]\n",
    "counter = {}\n",
    "\n",
    "for number in numbers:\n",
    "    if number in counter:\n",
    "        counter[number] = counter[number]+1\n",
    "    else:\n",
    "        counter[number]=1\n",
    "\n",
    "print(counter)\n",
    "# sorted(counter)\n",
    "# sorted(counter,items())\n",
    "\n"
   ]
  },
  {
   "cell_type": "code",
   "execution_count": 141,
   "metadata": {},
   "outputs": [
    {
     "name": "stdout",
     "output_type": "stream",
     "text": [
      "Counter({'apple': 2, 'cake': 2, 'banana': 1})\n"
     ]
    }
   ],
   "source": [
    "import collections\n",
    "\n",
    "numbers = ['apple','banana','cake','apple','cake']\n",
    "print(collections.Counter(numbers))"
   ]
  },
  {
   "cell_type": "code",
   "execution_count": 140,
   "metadata": {},
   "outputs": [
    {
     "name": "stdout",
     "output_type": "stream",
     "text": [
      "{'apple': 2, 'banana': 1, 'cake': 2}\n"
     ]
    }
   ],
   "source": [
    "numbers = ['apple','banana','cake','apple','cake']\n",
    "counter={}\n",
    "\n",
    "for number in numbers:\n",
    "    if number in counter:\n",
    "        counter[number] = counter[number]+1\n",
    "    else:\n",
    "        counter[number]=1\n",
    "\n",
    "print(counter)"
   ]
  },
  {
   "cell_type": "code",
   "execution_count": null,
   "metadata": {},
   "outputs": [],
   "source": []
  }
 ],
 "metadata": {
  "kernelspec": {
   "display_name": "Python 3",
   "language": "python",
   "name": "python3"
  },
  "language_info": {
   "codemirror_mode": {
    "name": "ipython",
    "version": 3
   },
   "file_extension": ".py",
   "mimetype": "text/x-python",
   "name": "python",
   "nbconvert_exporter": "python",
   "pygments_lexer": "ipython3",
   "version": "3.11.5"
  }
 },
 "nbformat": 4,
 "nbformat_minor": 2
}
