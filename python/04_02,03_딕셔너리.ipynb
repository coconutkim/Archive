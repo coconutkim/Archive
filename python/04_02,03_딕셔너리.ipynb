{
 "cells": [
  {
   "cell_type": "code",
   "execution_count": 15,
   "metadata": {},
   "outputs": [
    {
     "name": "stdout",
     "output_type": "stream",
     "text": [
      "name : knight\n",
      "level : 12\n",
      "sword : sword of fire\n",
      "armor : full plate\n",
      "skill : cut\n",
      "skill : cut powerfully\n",
      "skill : cut very powerfully\n"
     ]
    }
   ],
   "source": [
    "character = {\n",
    "    'name': 'knight',\n",
    "    'level': 12,\n",
    "    'items':{\n",
    "        'sword': 'sword of fire',\n",
    "        'armor': 'full plate'\n",
    "    },\n",
    "    'skill': ['cut','cut powerfully', 'cut very powerfully']\n",
    "}\n",
    "\n",
    "for key in character:\n",
    "    if type(character[key]) is str:\n",
    "        print(f'{key} : {character[key]}')\n",
    "    elif type(character[key]) is int:\n",
    "        print(f'{key} : {character[key]}')\n",
    "    elif type(character[key]) is dict:\n",
    "        for k,v in character[key].items():\n",
    "            print(f'{k} : {v}')\n",
    "    else:\n",
    "        for i in range(len(character[key])):\n",
    "            print(f'{key} : {character[key][i]}')"
   ]
  },
  {
   "cell_type": "code",
   "execution_count": null,
   "metadata": {},
   "outputs": [],
   "source": [
    "key_list = ['name','hp','mp','level']\n",
    "value_list = ['knight',200,30,5]\n",
    "character = {}\n",
    "\n",
    "\n",
    "\n",
    "print(character)"
   ]
  }
 ],
 "metadata": {
  "kernelspec": {
   "display_name": "Python 3",
   "language": "python",
   "name": "python3"
  },
  "language_info": {
   "codemirror_mode": {
    "name": "ipython",
    "version": 3
   },
   "file_extension": ".py",
   "mimetype": "text/x-python",
   "name": "python",
   "nbconvert_exporter": "python",
   "pygments_lexer": "ipython3",
   "version": "3.11.5"
  }
 },
 "nbformat": 4,
 "nbformat_minor": 2
}
