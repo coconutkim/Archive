{
 "cells": [
  {
   "cell_type": "code",
   "execution_count": 3,
   "metadata": {},
   "outputs": [
    {
     "name": "stdout",
     "output_type": "stream",
     "text": [
      "1 100\n",
      "시크릿:4 찍는 번호: 63\n",
      "down\n",
      "1 63\n",
      "시크릿:4 찍는 번호: 61\n"
     ]
    },
    {
     "ename": "KeyboardInterrupt",
     "evalue": "",
     "output_type": "error",
     "traceback": [
      "\u001b[1;31m---------------------------------------------------------------------------\u001b[0m",
      "\u001b[1;31mKeyboardInterrupt\u001b[0m                         Traceback (most recent call last)",
      "Cell \u001b[1;32mIn[3], line 11\u001b[0m\n\u001b[0;32m      9\u001b[0m \u001b[38;5;28mprint\u001b[39m(min_value, max_value)\n\u001b[0;32m     10\u001b[0m \u001b[38;5;28mprint\u001b[39m(\u001b[38;5;124mf\u001b[39m\u001b[38;5;124m'\u001b[39m\u001b[38;5;124m시크릿:\u001b[39m\u001b[38;5;132;01m{\u001b[39;00ma\u001b[38;5;132;01m}\u001b[39;00m\u001b[38;5;124m 찍는 번호: \u001b[39m\u001b[38;5;132;01m{\u001b[39;00mb\u001b[38;5;132;01m}\u001b[39;00m\u001b[38;5;124m'\u001b[39m)\n\u001b[1;32m---> 11\u001b[0m \u001b[43mtime\u001b[49m\u001b[38;5;241;43m.\u001b[39;49m\u001b[43msleep\u001b[49m\u001b[43m(\u001b[49m\u001b[38;5;241;43m1\u001b[39;49m\u001b[43m)\u001b[49m\n\u001b[0;32m     12\u001b[0m \u001b[38;5;28;01mif\u001b[39;00m a \u001b[38;5;241m!=\u001b[39m b:\n\u001b[0;32m     13\u001b[0m     \u001b[38;5;28;01mif\u001b[39;00m a \u001b[38;5;241m<\u001b[39mb:\n",
      "\u001b[1;31mKeyboardInterrupt\u001b[0m: "
     ]
    }
   ],
   "source": [
    "import random\n",
    "import time\n",
    "a = random.randint(1,101) # 문제\n",
    "min_value = 1\n",
    "max_value = 100\n",
    "b = random.randint(min_value,max_value) # 찍는거\n",
    "\n",
    "while True:\n",
    "    print(min_value, max_value)\n",
    "    print(f'시크릿:{a} 찍는 번호: {b}')\n",
    "    time.sleep(1)\n",
    "    if a != b:\n",
    "        if a <b:\n",
    "            print('down')\n",
    "            max_value = b\n",
    "        elif a > b:\n",
    "            print('up')\n",
    "            min_value = b\n",
    "        b = random.randint(min_value,max_value)\n",
    "    elif a ==b:\n",
    "        print('bingo')\n",
    "        break\n",
    "    "
   ]
  },
  {
   "cell_type": "code",
   "execution_count": 21,
   "metadata": {},
   "outputs": [
    {
     "name": "stdout",
     "output_type": "stream",
     "text": [
      "66\n",
      "range(0, 66)\n"
     ]
    }
   ],
   "source": [
    "import random\n",
    "b = random.randint(1,101)\n",
    "print(b)\n",
    "print(range(b))\n"
   ]
  },
  {
   "cell_type": "code",
   "execution_count": 1,
   "metadata": {},
   "outputs": [
    {
     "name": "stdout",
     "output_type": "stream",
     "text": [
      "68 79\n",
      "1 99\n",
      "down\n",
      "-------------\n",
      "68 14\n",
      "1 78\n",
      "up\n",
      "---------------\n",
      "68 61\n",
      "14 78\n",
      "up\n",
      "---------------\n",
      "68 65\n",
      "61 78\n",
      "up\n",
      "---------------\n",
      "68 72\n",
      "65 78\n",
      "down\n",
      "-------------\n",
      "68 72\n",
      "65 71\n",
      "down\n",
      "-------------\n",
      "68 70\n",
      "65 71\n",
      "down\n",
      "-------------\n",
      "68 67\n",
      "65 69\n",
      "up\n",
      "---------------\n",
      "68 70\n",
      "67 69\n",
      "down\n",
      "-------------\n",
      "68 68\n",
      "67 69\n",
      "bingo\n"
     ]
    }
   ],
   "source": [
    "import random\n",
    "min_randon = 1\n",
    "max_randon = 100\n",
    "\n",
    "secret = random.randint(1,101)\n",
    "\n",
    "\n",
    "while True:\n",
    "    randon = random.randint(min_randon,max_randon)\n",
    "    print(secret,randon)\n",
    "    print(f'{min_randon} {max_randon-1}')\n",
    "    if secret != randon:\n",
    "        if secret < randon:\n",
    "            print('down\\n-------------')\n",
    "            max_randon = randon\n",
    "        elif secret > randon:\n",
    "            print('up\\n---------------')\n",
    "            min_randon = randon\n",
    "    if secret == randon:\n",
    "        print('bingo')\n",
    "        break"
   ]
  },
  {
   "cell_type": "code",
   "execution_count": 16,
   "metadata": {},
   "outputs": [],
   "source": [
    "import datetime\n",
    "\n",
    "hellotime = input('input:')\n",
    "hellotime = hellotime.strip()\n",
    "hello = '안녕'\n",
    "whattime = '몇 시'\n",
    "now = datetime.datetime.now()\n",
    "\n",
    "if hello in hellotime:\n",
    "    print('안녕하세요.')\n",
    "elif whattime in hellotime:\n",
    "    print(f'지금은 {now.hour}시입니다.')"
   ]
  },
  {
   "cell_type": "code",
   "execution_count": 3,
   "metadata": {},
   "outputs": [
    {
     "name": "stdout",
     "output_type": "stream",
     "text": [
      "273 2 don't na ddal\n",
      "273 3 na ddal\n",
      "273 4 don't na ddal\n",
      "273 5 don't na ddal\n"
     ]
    }
   ],
   "source": [
    "intt = input()\n",
    "intt = int(intt)\n",
    "\n",
    "for i in range(2,6):\n",
    "    if intt % i ==0:\n",
    "        print(f'{intt} {i} na ddal')\n",
    "    else:\n",
    "        print(f'{intt} {i} don\\'t na ddal')\n"
   ]
  },
  {
   "cell_type": "code",
   "execution_count": 9,
   "metadata": {},
   "outputs": [
    {
     "name": "stdout",
     "output_type": "stream",
     "text": [
      "273\n",
      "103\n",
      "800\n"
     ]
    }
   ],
   "source": [
    "numbers = [273,103,5,32,65,9,72,800,99]\n",
    "\n",
    "for number in numbers: \n",
    "    if len(str(number)) ==3:\n",
    "        print(number)"
   ]
  },
  {
   "cell_type": "code",
   "execution_count": 14,
   "metadata": {},
   "outputs": [
    {
     "name": "stdout",
     "output_type": "stream",
     "text": [
      "name knight\n",
      "level 12\n",
      "sword sword of fire\n",
      "armor full plate\n",
      "skill cut\n",
      "skill bounce\n",
      "skill with\n"
     ]
    }
   ],
   "source": [
    "character = {\n",
    "    'name':'knight',\n",
    "    'level':12,\n",
    "    'items':{\n",
    "        'sword':'sword of fire',\n",
    "        'armor':'full plate'\n",
    "    },\n",
    "    'skill':['cut','bounce','with']\n",
    "    }\n",
    "\n",
    "for key in character:\n",
    "    if type(character[key]) is str:\n",
    "        print(f'{key} {character[key]}')\n",
    "    elif type(character[key]) is int:\n",
    "        print(f'{key} {character[key]}')\n",
    "    elif type(character[key]) is dict:\n",
    "        for k, v in character[key].items():\n",
    "            print(f'{k} {v}')\n",
    "    else:\n",
    "        for lili in range(len(character[key])):\n",
    "            print(f'{key} {character[key][lili]}')\n",
    "        \n"
   ]
  },
  {
   "cell_type": "code",
   "execution_count": 25,
   "metadata": {},
   "outputs": [
    {
     "name": "stdout",
     "output_type": "stream",
     "text": [
      "{1: 3, 2: 4, 6: 1, 8: 2, 4: 3, 3: 3, 9: 3, 5: 2, 7: 2}\n"
     ]
    }
   ],
   "source": [
    "numbers = [1,2,6,8,4,3,2,1,9,5,4,9,7,2,1,3,5,4,8,9,7,2,3]\n",
    "counter = {}\n",
    "\n",
    "for number in numbers:\n",
    "    if number in counter:\n",
    "        counter[number] = counter[number]+1\n",
    "    else:\n",
    "        counter[number] = 1\n",
    "\n",
    "print(counter)"
   ]
  },
  {
   "cell_type": "code",
   "execution_count": 41,
   "metadata": {},
   "outputs": [
    {
     "name": "stdout",
     "output_type": "stream",
     "text": [
      "e\n",
      "d\n",
      "c\n",
      "a\n",
      "b\n",
      "c\n",
      "d\n",
      "e\n",
      "e d c b a "
     ]
    }
   ],
   "source": [
    "li = 'abcde'\n",
    "li1=[]\n",
    "\n",
    "\n",
    "# for i in li:\n",
    "#     print(i)\n",
    "print(li[-1])\n",
    "print(li[-2])\n",
    "print(li[-3])\n",
    "\n",
    "for i in li:\n",
    "    print(i)\n",
    "    \n",
    "for j in range(len(li)-1,-1,-1):\n",
    "    print(li[j],end=' ')\n",
    "\n",
    "\n",
    "        \n",
    "\n",
    "\n"
   ]
  },
  {
   "cell_type": "code",
   "execution_count": 8,
   "metadata": {},
   "outputs": [
    {
     "name": "stdout",
     "output_type": "stream",
     "text": [
      "['a', 'b', 'c', 'd', 'e']\n",
      "a\n"
     ]
    }
   ],
   "source": [
    "li = ('abcde')\n",
    "li1=[]\n",
    "for i in li:\n",
    "    li1.append(i)\n",
    "print(li1)\n",
    "\n",
    "li = ('abcde')\n",
    "print(li[0])"
   ]
  }
 ],
 "metadata": {
  "kernelspec": {
   "display_name": "base",
   "language": "python",
   "name": "python3"
  },
  "language_info": {
   "codemirror_mode": {
    "name": "ipython",
    "version": 3
   },
   "file_extension": ".py",
   "mimetype": "text/x-python",
   "name": "python",
   "nbconvert_exporter": "python",
   "pygments_lexer": "ipython3",
   "version": "3.12.4"
  }
 },
 "nbformat": 4,
 "nbformat_minor": 2
}
