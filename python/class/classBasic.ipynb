{
 "cells": [
  {
   "cell_type": "markdown",
   "metadata": {},
   "source": [
    "클래스의 종류\n",
    "1. 사용 composition\n",
    "한 클래스가 다른 클래스의 객체를 자신의 속성으로 포함하는 관계\n",
    "포함된 것의 생명 주기가 포함하는 클래스에 종속된다"
   ]
  },
  {
   "cell_type": "code",
   "execution_count": 11,
   "metadata": {},
   "outputs": [
    {
     "name": "stdout",
     "output_type": "stream",
     "text": [
      "toyota 150\n"
     ]
    }
   ],
   "source": [
    "class Engine:\n",
    "    def __init__(self, horsepower):\n",
    "        self.horsepower = horsepower\n",
    "\n",
    "class Car:\n",
    "    def __init__(self, model,horsepower):\n",
    "        self.model = model\n",
    "        self.engine = Engine(horsepower)\n",
    "        \n",
    "    def start(self):\n",
    "        print(f'{self.model} {self.engine.horsepower}')\n",
    "        \n",
    "my_car = Car('toyota',150)\n",
    "my_car.start()\n",
    "        "
   ]
  },
  {
   "cell_type": "markdown",
   "metadata": {},
   "source": [
    "2. 포함 aggregation\n",
    "한 클래스가 다른 클래스의 객체를 자신의 속성으로 포함하는 관계\n",
    "포함된 것의 생명 주기가 포함하는 것과는 독립적이다\n",
    "\n",
    "객체란 이 클래스를 기반으로 만들어진 실제 하나의 완성품"
   ]
  },
  {
   "cell_type": "code",
   "execution_count": 15,
   "metadata": {},
   "outputs": [
    {
     "name": "stdout",
     "output_type": "stream",
     "text": [
      "Alice HR\n",
      "Bob HR\n"
     ]
    }
   ],
   "source": [
    "class Employee:\n",
    "    def __init__(self,name):\n",
    "        self.name = name\n",
    "        \n",
    "class Department:\n",
    "    def __init__(self,name):\n",
    "        self.name = name\n",
    "        self.employees = []\n",
    "        \n",
    "    def add_employee(self,employee):\n",
    "        self.employees.append(employee)\n",
    "        \n",
    "    def list_employees(self):\n",
    "        for emp in self.employees:\n",
    "            print(f'{emp.name} {self.name}')\n",
    "            \n",
    "emp1 = Employee(\"Alice\")\n",
    "emp2 = Employee(\"Bob\")\n",
    "dept = Department(\"HR\")\n",
    "dept.add_employee(emp1)\n",
    "dept.add_employee(emp2)\n",
    "dept.list_employees()"
   ]
  },
  {
   "cell_type": "markdown",
   "metadata": {},
   "source": [
    "3. 상속 inheritance\n",
    "한 클래스가 다른 클래스의 속성과 메서드를 물려받는다\n",
    "부모 클래스의 기능을 재사용하거나 확장할 수 있다"
   ]
  },
  {
   "cell_type": "code",
   "execution_count": 17,
   "metadata": {},
   "outputs": [
    {
     "name": "stdout",
     "output_type": "stream",
     "text": [
      "Toyota Camry\n",
      "horn\n"
     ]
    }
   ],
   "source": [
    "class Vehicle:\n",
    "    def __init__(self,make,model):\n",
    "        self.make = make\n",
    "        self.model = model\n",
    "    def drive(self):\n",
    "        print(f'{self.make} {self.model}')\n",
    "        \n",
    "class Car(Vehicle):\n",
    "    def __init__(self, make, model,doors):\n",
    "        super().__init__(make,model)\n",
    "        self.doors = doors\n",
    "    def honk(self):\n",
    "        print('horn')\n",
    "        \n",
    "my_car = Car(\"Toyota\", \"Camry\", 4)\n",
    "my_car.drive()\n",
    "my_car.honk()"
   ]
  },
  {
   "cell_type": "code",
   "execution_count": 9,
   "metadata": {},
   "outputs": [
    {
     "name": "stdout",
     "output_type": "stream",
     "text": [
      "11\n"
     ]
    }
   ],
   "source": [
    "class Calculator:\n",
    "    def __init__(self):\n",
    "        self.num1 = 0\n",
    "        self.num2 = 0\n",
    "    def add(self,num1,num2):\n",
    "        self.num1 = num1\n",
    "        self.num2 = num2\n",
    "        return self.num1+self.num2\n",
    "\n",
    "mycalc = Calculator()\n",
    "result = mycalc.add(5,6)\n",
    "print(result)"
   ]
  },
  {
   "cell_type": "code",
   "execution_count": 10,
   "metadata": {},
   "outputs": [
    {
     "name": "stdout",
     "output_type": "stream",
     "text": [
      "hong 10\n"
     ]
    }
   ],
   "source": [
    "class Student:\n",
    "    def __init__(self, name, age):\n",
    "        self.name = name\n",
    "        self.age = age\n",
    "    def study(self):\n",
    "        print(f'{self.name} {self.age}')\n",
    "\n",
    "hong1 = Student('hong',10)\n",
    "hong1.study()"
   ]
  },
  {
   "cell_type": "code",
   "execution_count": null,
   "metadata": {},
   "outputs": [],
   "source": []
  }
 ],
 "metadata": {
  "kernelspec": {
   "display_name": "base",
   "language": "python",
   "name": "python3"
  },
  "language_info": {
   "codemirror_mode": {
    "name": "ipython",
    "version": 3
   },
   "file_extension": ".py",
   "mimetype": "text/x-python",
   "name": "python",
   "nbconvert_exporter": "python",
   "pygments_lexer": "ipython3",
   "version": "3.12.4"
  }
 },
 "nbformat": 4,
 "nbformat_minor": 2
}
