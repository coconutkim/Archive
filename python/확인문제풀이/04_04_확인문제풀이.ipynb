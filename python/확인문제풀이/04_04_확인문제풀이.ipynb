{
 "cells": [
  {
   "cell_type": "code",
   "execution_count": 5,
   "metadata": {},
   "outputs": [
    {
     "data": {
      "text/plain": [
       "'1010'"
      ]
     },
     "execution_count": 5,
     "metadata": {},
     "output_type": "execute_result"
    }
   ],
   "source": [
    "'{:b}'.format(10)"
   ]
  },
  {
   "cell_type": "code",
   "execution_count": null,
   "metadata": {},
   "outputs": [],
   "source": [
    "output = '{:b}'.format(1)\n",
    "\n",
    "\n",
    "\n",
    "\n",
    "for i in range(1,101):\n",
    "    print('{} : {}'.format(i,'{:b}'.format(i)))\n",
    "print('합계:',sum(output))"
   ]
  },
  {
   "cell_type": "code",
   "execution_count": 1,
   "metadata": {},
   "outputs": [
    {
     "name": "stdout",
     "output_type": "stream",
     "text": [
      "down\n"
     ]
    }
   ],
   "source": [
    "import random\n",
    "a = input('number:')\n",
    "a = int(a)\n",
    "\n",
    "\n",
    "if a in range(1,101):\n",
    "    a = random.randint(1,100)\n",
    "    if a > 37:\n",
    "        print('down')\n",
    "    elif a < 37:\n",
    "        print('up')\n",
    "    else:\n",
    "        print('bingo')\n",
    "else:\n",
    "    print('wrong number')"
   ]
  }
 ],
 "metadata": {
  "kernelspec": {
   "display_name": "Python 3",
   "language": "python",
   "name": "python3"
  },
  "language_info": {
   "codemirror_mode": {
    "name": "ipython",
    "version": 3
   },
   "file_extension": ".py",
   "mimetype": "text/x-python",
   "name": "python",
   "nbconvert_exporter": "python",
   "pygments_lexer": "ipython3",
   "version": "3.12.4"
  }
 },
 "nbformat": 4,
 "nbformat_minor": 2
}
