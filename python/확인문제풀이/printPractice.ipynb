{
 "cells": [
  {
   "cell_type": "code",
   "execution_count": 1,
   "metadata": {},
   "outputs": [
    {
     "name": "stdout",
     "output_type": "stream",
     "text": [
      "= 구의 부피는 523.3333333333334입니다.\n",
      "= 구의 겉넓이는 314.0입니다.\n"
     ]
    }
   ],
   "source": [
    "r = int(input('구의 반지름을 입력해주세요:'))\n",
    "sphere1 = 4/3*3.14*r**3\n",
    "spehere2 = 4*3.14*r**2\n",
    "print('= 구의 부피는 {}입니다.'.format(sphere1))\n",
    "print('= 구의 겉넓이는 {}입니다.'.format(spehere2))"
   ]
  },
  {
   "cell_type": "code",
   "execution_count": 2,
   "metadata": {},
   "outputs": [
    {
     "name": "stdout",
     "output_type": "stream",
     "text": [
      "= 빗변의 길이는 5.0입니다.\n"
     ]
    }
   ],
   "source": [
    "bottom = float(input('밑변의 길이를 입력해주세요:'))\n",
    "height = float(input('높이의 길이를 입력해주세요:'))\n",
    "result = (bottom**2 + height**2)**(1/2)\n",
    "print('= 빗변의 길이는 {}입니다.'.format(result))"
   ]
  },
  {
   "cell_type": "code",
   "execution_count": 3,
   "metadata": {},
   "outputs": [
    {
     "name": "stdout",
     "output_type": "stream",
     "text": [
      "['False', 'None', 'True', 'and', 'as', 'assert', 'async', 'await', 'break', 'class', 'continue', 'def', 'del', 'elif', 'else', 'except', 'finally', 'for', 'from', 'global', 'if', 'import', 'in', 'is', 'lambda', 'nonlocal', 'not', 'or', 'pass', 'raise', 'return', 'try', 'while', 'with', 'yield']\n"
     ]
    }
   ],
   "source": [
    "import keyword\n",
    "print(keyword.kwlist)"
   ]
  }
 ],
 "metadata": {
  "kernelspec": {
   "display_name": "Python 3",
   "language": "python",
   "name": "python3"
  },
  "language_info": {
   "codemirror_mode": {
    "name": "ipython",
    "version": 3
   },
   "file_extension": ".py",
   "mimetype": "text/x-python",
   "name": "python",
   "nbconvert_exporter": "python",
   "pygments_lexer": "ipython3",
   "version": "3.11.5"
  }
 },
 "nbformat": 4,
 "nbformat_minor": 2
}
