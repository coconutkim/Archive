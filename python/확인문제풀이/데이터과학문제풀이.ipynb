{
 "cells": [
  {
   "cell_type": "code",
   "execution_count": 1,
   "metadata": {},
   "outputs": [
    {
     "name": "stdout",
     "output_type": "stream",
     "text": [
      "(40, 30, 20, 10)\n",
      "(40, 30, 20, 10)\n"
     ]
    }
   ],
   "source": [
    "matrix_b = [[40,40], [30,30], [20,20], [10,10]]\n",
    "for j in zip(*matrix_b):\n",
    "    print(j)"
   ]
  },
  {
   "cell_type": "code",
   "execution_count": 5,
   "metadata": {},
   "outputs": [
    {
     "name": "stdout",
     "output_type": "stream",
     "text": [
      "[1, 2, 3, 5]\n",
      "[1, 2, 3, 4]\n",
      "(40, 30, 20, 10)\n",
      "(40, 30, 20, 10)\n",
      "(1, 40)\n",
      "(2, 30)\n",
      "(3, 20)\n",
      "(4, 10)\n"
     ]
    }
   ],
   "source": [
    "matrix_a = [[1,2,3,5], [1,2,3,4]]\n",
    "for i in matrix_a:\n",
    "    print(i)\n",
    "matrix_b = [[40,40], [30,30], [20,20], [10,10]]\n",
    "for j in zip(*matrix_b):\n",
    "    print(j)\n",
    "for t in zip(i,j):\n",
    "    print(t)\n",
    "\n"
   ]
  },
  {
   "cell_type": "code",
   "execution_count": null,
   "metadata": {},
   "outputs": [],
   "source": [
    "class Calc:\n",
    "    def __init__(self,a,b):\n",
    "        self.a = a\n",
    "        self.b = b\n",
    "    def sum_func(a, b):\n",
    "        return a + b\n",
    "    def multiply_func(a,b):\n",
    "        return a * b\n",
    "    def minus_func(a,b):\n",
    "        return a -b\n",
    "    def devide_func(a,b):\n",
    "        return a / b\n",
    "    \n",
    "cal = Calc()\n",
    "cal()\n",
    "user_input = input(\"사칙연산 프로그램: \").split(\" \")\n",
    "first_val , second_val = int(user_input [0]), int(user_input [2])\n",
    "fourcal = user_input[1]\n",
    "if fourcal == \"+\":\n",
    "    result = sum_func(first_val , second_val)\n",
    "elif fourcal == \"-\":\n",
    "    result = minus_func(first_val , second_val)\n",
    "elif fourcal == \"/\":\n",
    "    result =devide_func(first_val , second_val)\n",
    "else:\n",
    "    result =multiply_func(first_val , second_val)\n",
    "print(\"실행 결과는\", result)"
   ]
  },
  {
   "cell_type": "code",
   "execution_count": 16,
   "metadata": {},
   "outputs": [
    {
     "name": "stdout",
     "output_type": "stream",
     "text": [
      "Friday\n"
     ]
    }
   ],
   "source": [
    "days = ['Monday', 'Tuesday', 'Wednesday', 'Thursday', 'Friday']\n",
    "for day in days:\n",
    "    with open('week.txt', 'w') as f:\n",
    "        f.write(day)\n",
    "print(open('week.txt', 'r').read())"
   ]
  },
  {
   "cell_type": "code",
   "execution_count": 18,
   "metadata": {},
   "outputs": [
    {
     "name": "stdout",
     "output_type": "stream",
     "text": [
      "13\n"
     ]
    }
   ],
   "source": [
    "sentence = list(\"Hello Friend\")\n",
    "print(len(sentence))"
   ]
  }
 ],
 "metadata": {
  "kernelspec": {
   "display_name": "base",
   "language": "python",
   "name": "python3"
  },
  "language_info": {
   "codemirror_mode": {
    "name": "ipython",
    "version": 3
   },
   "file_extension": ".py",
   "mimetype": "text/x-python",
   "name": "python",
   "nbconvert_exporter": "python",
   "pygments_lexer": "ipython3",
   "version": "3.12.4"
  }
 },
 "nbformat": 4,
 "nbformat_minor": 2
}
