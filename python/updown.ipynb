{
 "cells": [
  {
   "cell_type": "code",
   "execution_count": 1,
   "metadata": {},
   "outputs": [
    {
     "name": "stdout",
     "output_type": "stream",
     "text": [
      "up\n",
      "up\n",
      "down\n",
      "down\n",
      "down\n",
      "the end\n"
     ]
    }
   ],
   "source": [
    "secret_num =37\n",
    "i = 1\n",
    "while i<=5:\n",
    "    guess_num = int(input('number:'))\n",
    "    if secret_num > guess_num:\n",
    "        print('up')\n",
    "    elif secret_num < guess_num:\n",
    "        print('down')\n",
    "    else:\n",
    "        print('bingo')\n",
    "    i = i+1\n",
    "print('the end')"
   ]
  },
  {
   "cell_type": "code",
   "execution_count": 4,
   "metadata": {},
   "outputs": [],
   "source": [
    "import random\n",
    "secret_num =random.randint(1,100)\n",
    "print('answer:', secret_num)\n",
    "i = 1\n",
    "while i<=5:\n",
    "    guess_num = int(input('number:'))\n",
    "    if secret_num > guess_num:\n",
    "        print('up')\n",
    "    elif secret_num < guess_num:\n",
    "        print('down')\n",
    "    else:\n",
    "        print('bingo')\n",
    "        break\n",
    "    i = i+1\n",
    "print('the end')"
   ]
  },
  {
   "cell_type": "code",
   "execution_count": null,
   "metadata": {},
   "outputs": [],
   "source": [
    "import random\n",
    "secret = random.randint(1,100)\n",
    "\n",
    "# i는 도전 횟수\n",
    "while i <= 5:\n",
    "    num"
   ]
  }
 ],
 "metadata": {
  "kernelspec": {
   "display_name": "base",
   "language": "python",
   "name": "python3"
  },
  "language_info": {
   "codemirror_mode": {
    "name": "ipython",
    "version": 3
   },
   "file_extension": ".py",
   "mimetype": "text/x-python",
   "name": "python",
   "nbconvert_exporter": "python",
   "pygments_lexer": "ipython3",
   "version": "3.12.4"
  }
 },
 "nbformat": 4,
 "nbformat_minor": 2
}
