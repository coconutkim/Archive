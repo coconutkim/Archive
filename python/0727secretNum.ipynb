{
 "cells": [
  {
   "cell_type": "code",
   "execution_count": null,
   "metadata": {},
   "outputs": [],
   "source": [
    "# 범위는 1부터 100\n",
    "# 먼저 범위 내에서 숫자 아무거나 뽑고 맞추기\n",
    "# 결과를 다운이나 업으로 표시\n",
    "# 이를 기준으로 범위를 줄여나가서 정답 맞추기\n"
   ]
  }
 ],
 "metadata": {
  "language_info": {
   "name": "python"
  }
 },
 "nbformat": 4,
 "nbformat_minor": 2
}
