{
 "cells": [
  {
   "cell_type": "code",
   "execution_count": 123,
   "metadata": {},
   "outputs": [
    {
     "name": "stdout",
     "output_type": "stream",
     "text": [
      "from 1 to 100\n",
      "answer:88 number:68\n",
      "up\n",
      "from 68 to 100\n",
      "answer:88 number:88\n",
      "\"bingo\"\n"
     ]
    }
   ],
   "source": [
    "# --문제--\n",
    "# 범위는 1부터 100\n",
    "# 먼저 범위 내에서 숫자 아무거나 뽑고 맞추기\n",
    "# 결과를 다운이나 업으로 표시\n",
    "# 이를 기준으로 범위를 줄여나가서 정답 맞추기\n",
    "# -----------------------------------------------\n",
    "# --풀이과정--\n",
    "# 랜덤을 이용해 난수를 2개 구해서 정답과 숫자의 값을 부여한다\n",
    "# 둘이 동일해질 때까지 반복한다\n",
    "# 숫자가 정답보다 크면 낮추라고 한다\n",
    "# 그리고 그 숫자는 숫자 범위의 최대값이 된다\n",
    "# 숫자가 정답보다 크면 높이라고 한다\n",
    "# 그리고 그 숫자는 숫자 범위의 최소값이 된다\n",
    "# 만약에 둘이 같아지면 반복문을 멈춘다\n",
    "\n",
    "import random\n",
    "import time\n",
    "\n",
    "min_val = 1\n",
    "max_val = 100\n",
    "anr = random.randint(1,100)\n",
    "num = random.randint(min_val, max_val)\n",
    "\n",
    "while True:\n",
    "    print(f'from {min_val} to {max_val}')\n",
    "    print(f'answer:{anr} number:{num}')\n",
    "    if anr != num:\n",
    "        if anr < num:\n",
    "            print('down')\n",
    "            max_val = num\n",
    "            \n",
    "        elif anr > num:\n",
    "            print('up')\n",
    "            min_val = num\n",
    "        num = random.randint(min_val, max_val)       \n",
    "                \n",
    "    elif anr ==num:\n",
    "        print('\"bingo\"')\n",
    "        break\n",
    "    time.sleep(1)\n",
    "\n"
   ]
  }
 ],
 "metadata": {
  "kernelspec": {
   "display_name": "Python 3",
   "language": "python",
   "name": "python3"
  },
  "language_info": {
   "codemirror_mode": {
    "name": "ipython",
    "version": 3
   },
   "file_extension": ".py",
   "mimetype": "text/x-python",
   "name": "python",
   "nbconvert_exporter": "python",
   "pygments_lexer": "ipython3",
   "version": "3.11.5"
  }
 },
 "nbformat": 4,
 "nbformat_minor": 2
}
