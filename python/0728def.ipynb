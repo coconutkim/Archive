{
 "cells": [
  {
   "cell_type": "code",
   "execution_count": 7,
   "metadata": {},
   "outputs": [
    {
     "name": "stdout",
     "output_type": "stream",
     "text": [
      "www.naver.com\n"
     ]
    }
   ],
   "source": [
    "# --문제--\n",
    "# 문자열 하나를 입력받아\n",
    "# 인터넷 주소를 반환하는 make_url 함수를 정의하라.\n",
    "# make_url('naver')\n",
    "# www.naver.com\n",
    "# ---------------------------------------------------\n",
    "# --풀이과정--\n",
    "\n",
    "def make_url(site):\n",
    "    url = 'www.' + site + '.com'\n",
    "    return url\n",
    "\n",
    "print(make_url('naver'))"
   ]
  },
  {
   "cell_type": "code",
   "execution_count": 21,
   "metadata": {},
   "outputs": [
    {
     "name": "stdout",
     "output_type": "stream",
     "text": [
      "['a', 'b', 'c', 'd']\n"
     ]
    }
   ],
   "source": [
    "# 문자열을 입력받아 각 문자들로 구성된 리스트로\n",
    "# 반환하는 make_list 함수를 정의하라.\n",
    "# make_list('abcd')\n",
    "# ['a', 'b', 'c', 'd']\n",
    "# -------------------------------------------\n",
    "# 하나의 덩어리를 여러개로 나눈다\n",
    "\n",
    "def make_list(alpha):\n",
    "    li = []\n",
    "    for i in alpha:\n",
    "        li.append(i)\n",
    "    return li\n",
    "\n",
    "print(make_list('abcd'))\n"
   ]
  },
  {
   "cell_type": "code",
   "execution_count": 19,
   "metadata": {},
   "outputs": [
    {
     "name": "stdout",
     "output_type": "stream",
     "text": [
      "['abcd']\n"
     ]
    }
   ],
   "source": [
    "hello = 'abcd'\n",
    "hello = hello.split()\n",
    "print(hello)"
   ]
  }
 ],
 "metadata": {
  "kernelspec": {
   "display_name": "Python 3",
   "language": "python",
   "name": "python3"
  },
  "language_info": {
   "codemirror_mode": {
    "name": "ipython",
    "version": 3
   },
   "file_extension": ".py",
   "mimetype": "text/x-python",
   "name": "python",
   "nbconvert_exporter": "python",
   "pygments_lexer": "ipython3",
   "version": "3.11.5"
  }
 },
 "nbformat": 4,
 "nbformat_minor": 2
}
