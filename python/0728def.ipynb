{
 "cells": [
  {
   "cell_type": "code",
   "execution_count": 7,
   "metadata": {},
   "outputs": [
    {
     "name": "stdout",
     "output_type": "stream",
     "text": [
      "www.naver.com\n"
     ]
    }
   ],
   "source": [
    "# --문제--\n",
    "# 문자열 하나를 입력받아\n",
    "# 인터넷 주소를 반환하는 make_url 함수를 정의하라.\n",
    "# ---------------------------------------------------\n",
    "# --풀이과정--\n",
    "\n",
    "# make_url('naver')\n",
    "# www.naver.com\n",
    "\n",
    "def make_url(site):\n",
    "    url = 'www.' + site + '.com'\n",
    "    return url\n",
    "\n",
    "print(make_url('naver'))"
   ]
  }
 ],
 "metadata": {
  "kernelspec": {
   "display_name": "Python 3",
   "language": "python",
   "name": "python3"
  },
  "language_info": {
   "codemirror_mode": {
    "name": "ipython",
    "version": 3
   },
   "file_extension": ".py",
   "mimetype": "text/x-python",
   "name": "python",
   "nbconvert_exporter": "python",
   "pygments_lexer": "ipython3",
   "version": "3.11.5"
  }
 },
 "nbformat": 4,
 "nbformat_minor": 2
}
