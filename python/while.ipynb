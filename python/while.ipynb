{
 "cells": [
  {
   "cell_type": "code",
   "execution_count": 2,
   "metadata": {},
   "outputs": [
    {
     "name": "stdout",
     "output_type": "stream",
     "text": [
      "1은 홀수\n",
      "2은 짝수\n",
      "3은 홀수\n",
      "4은 짝수\n",
      "5은 홀수\n",
      "6은 짝수\n",
      "7은 홀수\n",
      "8은 짝수\n",
      "9은 홀수\n",
      "10은 짝수\n"
     ]
    }
   ],
   "source": [
    "n= 1\n",
    "while n<=10:\n",
    "    if n%2 ==0:\n",
    "        print(f'{n}은 짝수')\n",
    "    else:\n",
    "        print(f'{n}은 홀수')\n",
    "    n+=1"
   ]
  },
  {
   "cell_type": "code",
   "execution_count": 1,
   "metadata": {},
   "outputs": [
    {
     "name": "stdout",
     "output_type": "stream",
     "text": [
      "1\n",
      "2\n",
      "3\n",
      "4\n"
     ]
    }
   ],
   "source": [
    "n=1\n",
    "while n<=10:\n",
    "    if n==5:\n",
    "        break\n",
    "    print(n)\n",
    "    n+=1"
   ]
  },
  {
   "cell_type": "code",
   "execution_count": 6,
   "metadata": {},
   "outputs": [
    {
     "name": "stdout",
     "output_type": "stream",
     "text": [
      "2\n",
      "3\n",
      "4\n",
      "6\n",
      "7\n",
      "8\n",
      "9\n",
      "10\n",
      "11\n"
     ]
    }
   ],
   "source": [
    "n=1\n",
    "while n<=10:\n",
    "    n+=1\n",
    "    if n==5:\n",
    "        # 5인 부분만 건너뛰어라\n",
    "        continue\n",
    "    print(n)"
   ]
  }
 ],
 "metadata": {
  "kernelspec": {
   "display_name": "Python 3",
   "language": "python",
   "name": "python3"
  },
  "language_info": {
   "codemirror_mode": {
    "name": "ipython",
    "version": 3
   },
   "file_extension": ".py",
   "mimetype": "text/x-python",
   "name": "python",
   "nbconvert_exporter": "python",
   "pygments_lexer": "ipython3",
   "version": "3.11.5"
  }
 },
 "nbformat": 4,
 "nbformat_minor": 2
}
