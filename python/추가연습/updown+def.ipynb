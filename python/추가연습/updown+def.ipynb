{
 "cells": [
  {
   "cell_type": "code",
   "execution_count": 1,
   "metadata": {},
   "outputs": [
    {
     "name": "stdout",
     "output_type": "stream",
     "text": [
      "up\n",
      "up\n",
      "down\n",
      "down\n",
      "down\n",
      "the end\n"
     ]
    }
   ],
   "source": [
    "secret_num =37\n",
    "i = 1\n",
    "while i<=5:\n",
    "    guess_num = int(input('number:'))\n",
    "    if secret_num > guess_num:\n",
    "        print('up')\n",
    "    elif secret_num < guess_num:\n",
    "        print('down')\n",
    "    else:\n",
    "        print('bingo')\n",
    "    i = i+1\n",
    "print('the end')"
   ]
  },
  {
   "cell_type": "code",
   "execution_count": 4,
   "metadata": {},
   "outputs": [],
   "source": [
    "import random\n",
    "secret_num =random.randint(1,100)\n",
    "print('answer:', secret_num)\n",
    "i = 1\n",
    "while i<=5:\n",
    "    guess_num = int(input('number:'))\n",
    "    if secret_num > guess_num:\n",
    "        print('up')\n",
    "    elif secret_num < guess_num:\n",
    "        print('down')\n",
    "    else:\n",
    "        print('bingo')\n",
    "        break\n",
    "    i = i+1\n",
    "print('the end')"
   ]
  },
  {
   "cell_type": "code",
   "execution_count": null,
   "metadata": {},
   "outputs": [],
   "source": [
    "import random\n",
    "secret = random.randint(1,100)\n",
    "\n",
    "# i는 도전 횟수\n",
    "while i <= 5:\n",
    "    num"
   ]
  },
  {
   "cell_type": "code",
   "execution_count": 4,
   "metadata": {},
   "outputs": [
    {
     "name": "stdout",
     "output_type": "stream",
     "text": [
      "26\n"
     ]
    }
   ],
   "source": [
    "def cum_add(*num):\n",
    "    tot = 0\n",
    "    for i in num:\n",
    "        tot += i\n",
    "    return tot\n",
    "\n",
    "result = cum_add(5,8,13)\n",
    "print(result)"
   ]
  },
  {
   "cell_type": "code",
   "execution_count": 6,
   "metadata": {},
   "outputs": [
    {
     "data": {
      "text/plain": [
       "[1, 2, 3]"
      ]
     },
     "execution_count": 6,
     "metadata": {},
     "output_type": "execute_result"
    }
   ],
   "source": [
    "tot = 0\n",
    "[tot + i for i in [1,2,3]]"
   ]
  },
  {
   "cell_type": "code",
   "execution_count": 8,
   "metadata": {},
   "outputs": [
    {
     "name": "stdout",
     "output_type": "stream",
     "text": [
      "hi/nice\n"
     ]
    }
   ],
   "source": [
    "print('hi','nice', sep='/')"
   ]
  },
  {
   "cell_type": "code",
   "execution_count": 9,
   "metadata": {},
   "outputs": [
    {
     "name": "stdout",
     "output_type": "stream",
     "text": [
      "Help on built-in function print in module builtins:\n",
      "\n",
      "print(*args, sep=' ', end='\\n', file=None, flush=False)\n",
      "    Prints the values to a stream, or to sys.stdout by default.\n",
      "\n",
      "    sep\n",
      "      string inserted between values, default a space.\n",
      "    end\n",
      "      string appended after the last value, default a newline.\n",
      "    file\n",
      "      a file-like object (stream); defaults to the current sys.stdout.\n",
      "    flush\n",
      "      whether to forcibly flush the stream.\n",
      "\n"
     ]
    }
   ],
   "source": [
    "help(print)"
   ]
  },
  {
   "cell_type": "code",
   "execution_count": 15,
   "metadata": {},
   "outputs": [
    {
     "name": "stdout",
     "output_type": "stream",
     "text": [
      "chicken\n",
      "cold noodle\n"
     ]
    },
    {
     "ename": "TypeError",
     "evalue": "hi() takes from 0 to 1 positional arguments but 2 were given",
     "output_type": "error",
     "traceback": [
      "\u001b[1;31m---------------------------------------------------------------------------\u001b[0m",
      "\u001b[1;31mTypeError\u001b[0m                                 Traceback (most recent call last)",
      "Cell \u001b[1;32mIn[15], line 9\u001b[0m\n\u001b[0;32m      7\u001b[0m hi(menu\u001b[38;5;241m=\u001b[39m\u001b[38;5;124m'\u001b[39m\u001b[38;5;124mcold noodle\u001b[39m\u001b[38;5;124m'\u001b[39m)\n\u001b[0;32m      8\u001b[0m \u001b[38;5;66;03m# errow\u001b[39;00m\n\u001b[1;32m----> 9\u001b[0m hi(\u001b[38;5;124m'\u001b[39m\u001b[38;5;124mchicken\u001b[39m\u001b[38;5;124m'\u001b[39m,\u001b[38;5;124m'\u001b[39m\u001b[38;5;124mice cream\u001b[39m\u001b[38;5;124m'\u001b[39m)\n",
      "\u001b[1;31mTypeError\u001b[0m: hi() takes from 0 to 1 positional arguments but 2 were given"
     ]
    }
   ],
   "source": [
    "# 기본 매개변수(기본값이 있는 매개변수)가 있는 함수 정의\n",
    "\n",
    "def hi(menu = 'bab'):\n",
    "    print(menu)\n",
    "    \n",
    "hi('chicken')\n",
    "hi(menu='cold noodle')\n",
    "# errow\n",
    "hi('chicken','ice cream')"
   ]
  }
 ],
 "metadata": {
  "kernelspec": {
   "display_name": "base",
   "language": "python",
   "name": "python3"
  },
  "language_info": {
   "codemirror_mode": {
    "name": "ipython",
    "version": 3
   },
   "file_extension": ".py",
   "mimetype": "text/x-python",
   "name": "python",
   "nbconvert_exporter": "python",
   "pygments_lexer": "ipython3",
   "version": "3.12.4"
  }
 },
 "nbformat": 4,
 "nbformat_minor": 2
}
