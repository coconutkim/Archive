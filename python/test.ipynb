{
 "cells": [
  {
   "cell_type": "code",
   "execution_count": 3,
   "metadata": {},
   "outputs": [
    {
     "name": "stdout",
     "output_type": "stream",
     "text": [
      "{1: 4, 2: 3, 3: 3, 4: 2}\n"
     ]
    }
   ],
   "source": [
    "li = [1,2,3,4,1,2,3,1,4,1,2,3]\n",
    "\n",
    "ouput = {i:li.count(i) for i in li}\n",
    "\n",
    "# for i in li:\n",
    "#     if i in ouput:\n",
    "#         ouput[i] += 1\n",
    "#     else:\n",
    "#         ouput[i] = 1\n",
    "\n",
    "\n",
    "print(ouput)"
   ]
  },
  {
   "cell_type": "code",
   "execution_count": 1,
   "metadata": {},
   "outputs": [
    {
     "name": "stdout",
     "output_type": "stream",
     "text": [
      "['_', 2, '_', 4, '_', 2, '_', '_', 4, '_', 2, '_']\n",
      "[2, 4, 2, 4, 2]\n"
     ]
    }
   ],
   "source": [
    "li = [1,2,3,4,1,2,3,1,4,1,2,3]\n",
    "li2 = [ i if i % 2 == 0 else '_' for i in li]\n",
    "li3 = [ i for i in li if i % 2 == 0]\n",
    "\n",
    "\n",
    "print(li2)\n",
    "print(li3)"
   ]
  },
  {
   "cell_type": "code",
   "execution_count": 6,
   "metadata": {},
   "outputs": [
    {
     "name": "stdout",
     "output_type": "stream",
     "text": [
      "{'a': 9, 't': 9, 'g': 6, 'c': 9}\n"
     ]
    }
   ],
   "source": [
    "# 염기 서열을 입력했을 때\n",
    "# 각각의 염기가 몇 개 포함되어 있는지\n",
    "# 세는 프로그램을 구현해 보세요\n",
    "\n",
    "\n",
    "# input('염기 서열을 입력해주세요:')\n",
    "li = 'ctacaatgtcagtatacccattgcattagccgg'\n",
    "\n",
    "# print(f'a의 개수: {li[0].count('a')}')\n",
    "# print(f't의 개수: {li[0].count('t')}')\n",
    "# print(f'g의 개수: {li[0].count('g')}')\n",
    "# print(f'c의 개수: {li[0].count('c')}')\n",
    "\n",
    "# ------------------------------------------------\n",
    "\n",
    "# c, g, t, a = (0,0,0,0)\n",
    "\n",
    "# for i in li:\n",
    "#     if 'c' == i:\n",
    "#         c  = c + 1\n",
    "#     if 't' == i:\n",
    "#         t += 1\n",
    "#     if 'a' == i:\n",
    "#         a += 1\n",
    "#     if 'g' == i:\n",
    "#         g += 1\n",
    "        \n",
    "# print(c, g, t, a)\n",
    "\n",
    "# -----------------------------------------\n",
    "\n",
    "\n",
    "di= {}\n",
    "\n",
    "di['a'] = li.count('a')\n",
    "di['t'] = li.count('t')\n",
    "di['g'] = li.count('g')\n",
    "di['c'] = li.count('c')\n",
    "\n",
    "print(di)\n",
    "\n",
    "# -------------------------\n",
    "\n",
    "\n",
    "\n",
    "\n",
    "\n",
    "\n",
    "\n"
   ]
  },
  {
   "cell_type": "code",
   "execution_count": 10,
   "metadata": {},
   "outputs": [
    {
     "name": "stdout",
     "output_type": "stream",
     "text": [
      "{'gdg': 1, 'seg': 1, 'ewg': 1, 'wgw': 1, 'egw': 1}\n"
     ]
    }
   ],
   "source": [
    "li = input('염기 서열을 입력해주세요:')\n",
    "a = [li[i:i+3] for i in range(0,len(li),3)]\n",
    "ouput = {}\n",
    "for i in a:\n",
    "    if len(i) == 3:\n",
    "        ouput[i] = li.count(i)\n",
    "        \n",
    "print(ouput)"
   ]
  },
  {
   "cell_type": "code",
   "execution_count": 61,
   "metadata": {},
   "outputs": [
    {
     "name": "stdout",
     "output_type": "stream",
     "text": [
      "[1, 2, [3, 4], 5, [6, 7], [8, 9]]을 평탄화하면\n",
      "[1, 2, 3, 4, 5, 6, 7, 8, 9]입니다\n"
     ]
    }
   ],
   "source": [
    "li2 = []\n",
    "li = [1,2,[3,4],5,[6,7],[8,9]]\n",
    "for i in li:\n",
    "    if type(i) is list:\n",
    "        li2.extend(i)\n",
    "    else:\n",
    "        li2.append(i)\n",
    "print(f'{li}을 평탄화하면')\n",
    "print(f'{li2}입니다')"
   ]
  },
  {
   "cell_type": "code",
   "execution_count": 12,
   "metadata": {},
   "outputs": [
    {
     "name": "stdout",
     "output_type": "stream",
     "text": [
      "1722063561.027647\n",
      "1722063561.0288014\n",
      "1722063561.0293474\n",
      "1722063561.0299451\n",
      "1722063561.0304778\n",
      "1722063561.0310342\n",
      "1722063561.031582\n",
      "1722063561.032121\n",
      "1722063561.0327446\n",
      "1722063561.0333016\n"
     ]
    },
    {
     "data": {
      "text/plain": [
       "6"
      ]
     },
     "execution_count": 12,
     "metadata": {},
     "output_type": "execute_result"
    }
   ],
   "source": [
    "import time\n",
    "tt = time.time()\n",
    "for tt in range(1,11):\n",
    "    print(time.time())\n",
    "    time.sleep(0.0001)\n",
    "import random\n",
    "random.randint(1,46)"
   ]
  },
  {
   "cell_type": "code",
   "execution_count": 14,
   "metadata": {},
   "outputs": [
    {
     "name": "stdout",
     "output_type": "stream",
     "text": [
      "{1: [16, 23, 29, 20, 18, 39], 2: [15, 20, 33, 42, 10, 14], 3: [38, 1, 40, 20, 27, 44], 4: [11, 43, 44, 33, 7, 30], 5: [17, 40, 28, 19, 10, 13]}\n",
      "[1, 7, 10, 10, 11, 13, 14, 15, 16, 17, 18, 19, 20, 20, 20, 23, 27, 28, 29, 30, 33, 33, 38, 39, 40, 40, 42, 43, 44, 44]\n",
      "{1: 1, 7: 1, 10: 2, 11: 1, 13: 1, 14: 1, 15: 1, 16: 1, 17: 1, 18: 1, 19: 1, 20: 3, 23: 1, 27: 1, 28: 1, 29: 1, 30: 1, 33: 2, 38: 1, 39: 1, 40: 2, 42: 1, 43: 1, 44: 2}\n"
     ]
    }
   ],
   "source": [
    "# drawing numbers\n",
    "import random\n",
    "\n",
    "def f():\n",
    "    li=[]\n",
    "    while len(li) != 6:\n",
    "        lot = random.randint(1,46)\n",
    "        if lot in li:\n",
    "            continue\n",
    "        else:\n",
    "            li.append(lot)\n",
    "    \n",
    "    return li\n",
    "\n",
    "lott = {}\n",
    "\n",
    "for i in range(5):\n",
    "    lott[i+1] = f()\n",
    "    \n",
    "print(lott)\n",
    "\n",
    "\n",
    "\n",
    "# listing sorted numbers\n",
    "liappen = []\n",
    "dinew = {}\n",
    "for i in range(1,6):\n",
    "    for k in range(0,6):\n",
    "        liappen.append(lott[i][k])\n",
    "        liappen.sort()\n",
    "print(liappen)\n",
    "\n",
    "\n",
    "\n",
    "# count how many of each number\n",
    "for j in range(len(liappen)):\n",
    "    dinew[liappen[j]] = liappen.count(liappen[j])\n",
    "        \n",
    "print(dinew)\n",
    "\n",
    "\n",
    "\n",
    "\n",
    "\n"
   ]
  },
  {
   "cell_type": "code",
   "execution_count": 11,
   "metadata": {},
   "outputs": [
    {
     "name": "stdout",
     "output_type": "stream",
     "text": [
      "[2, 3, 4, 5, 8, 9]\n",
      "6\n",
      "1\n"
     ]
    }
   ],
   "source": [
    "dic = {1:[3,4,8,2,5,], 2:[9,5,2,7,3,0]}\n",
    "li = []\n",
    "for i in range(1,3):\n",
    "    for k in range(0,3):\n",
    "       li.append(dic[i][k])\n",
    "       li.sort()\n",
    "print(li)\n",
    "print(len(li))\n",
    "print(li[])\n",
    "print(li.count(3))"
   ]
  }
 ],
 "metadata": {
  "kernelspec": {
   "display_name": "base",
   "language": "python",
   "name": "python3"
  },
  "language_info": {
   "codemirror_mode": {
    "name": "ipython",
    "version": 3
   },
   "file_extension": ".py",
   "mimetype": "text/x-python",
   "name": "python",
   "nbconvert_exporter": "python",
   "pygments_lexer": "ipython3",
   "version": "3.11.5"
  }
 },
 "nbformat": 4,
 "nbformat_minor": 2
}
